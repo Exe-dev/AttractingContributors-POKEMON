{
  "nbformat": 4,
  "nbformat_minor": 0,
  "metadata": {
    "colab": {
      "name": "first_time_users_stay_time.ipynb",
      "provenance": [],
      "collapsed_sections": [
        "pZaXKQMhYI-l",
        "SOYr0O7KciFp",
        "zqsobkTsb85a"
      ],
      "toc_visible": true
    },
    "kernelspec": {
      "name": "python3",
      "display_name": "Python 3"
    }
  },
  "cells": [
    {
      "cell_type": "markdown",
      "metadata": {
        "id": "lDMqDm7Qawvp"
      },
      "source": [
        "#First time users stay time"
      ]
    },
    {
      "cell_type": "markdown",
      "metadata": {
        "id": "w_esit1pVBjD"
      },
      "source": [
        "以下の3通りに分けて初回起動ユーザーの平均起動時間を計算する\n",
        "+ daily\n",
        "+ weekly\n",
        "+ monthly"
      ]
    },
    {
      "cell_type": "markdown",
      "metadata": {
        "id": "qrlfJX8zVEiW"
      },
      "source": [
        "##Input Parameters\n",
        "+ DATE 集計期間の終わりの日\n",
        "+ DEBUG 手動実行時のみTrue\n",
        "+ FREQUENCY 実行頻度\n",
        "+ BIGQUERY_PROJECT_ID bigqueryのプロジェクト名\n",
        "+ BIGQUERY_DATASET bigqueryのデータセット\n",
        "+ PACKAGE_NAME bigqueryのパッケージ名\n",
        "+ OUTPUT_BIGQUERY_PROJECT_ID 出力先のBQのプロジェクト名\n",
        "+ ISLATEST 最新の日付を対象にする場合はTrue,任意の日付を指定する場合はFalse"
      ]
    },
    {
      "cell_type": "markdown",
      "metadata": {
        "id": "VpoODtaRsdlr"
      },
      "source": [
        "# Output Range\n",
        "+ daily\n",
        "DATEの1日前を対象に集計\n",
        " \n",
        "  ex.DATE=\"2021-02-02\"の場合は\"2021-02-01を対象に集計\"\n",
        "+ weekly\n",
        "DATEの1日前から7日を対象に集計\n",
        "\n",
        "  ex.DATE=\"2021-02-22\"の場合は\"2021-02-15\"から\"2021-02-21を対象に集計\"\n",
        "+ monthly\n",
        "DATEの1日前から1ヶ月を対象に集計\n",
        "\n",
        "  ex.DATE=\"2021-02-01\"の場合は\"2021-01-01\"から\"2021-01-31\"を対象に集計\""
      ]
    },
    {
      "cell_type": "markdown",
      "metadata": {
        "id": "CYxnXwgrr1Nd"
      },
      "source": [
        "## Output Data\n",
        "+ date　集計の開始日\n",
        "+ android_first_users_stay_time\tAndroid初回起動ユーザーの平均滞在時間\n",
        "+ ios_first_users_stay_time\tiOS初回起動ユーザーの平均滞在時間\n",
        "+ all_first_users_stay_time 全ユーザーの平均滞在時間\n"
      ]
    },
    {
      "cell_type": "markdown",
      "metadata": {
        "id": "oR0sg6NQbPKM"
      },
      "source": [
        "# Parameters"
      ]
    },
    {
      "cell_type": "code",
      "metadata": {
        "id": "pr8uu2mmQR_g"
      },
      "source": [
        "DATE = \"2020-01-01\" # @param {type: \"date\"}\n",
        "DEBUG = True # @param {type: \"boolean\"} 手動実行時のみTrueにする。Cloud FunctionsからFalseを渡される。\n",
        "FREQUENCY = \"monthly\" # @param {type: \"string\"}\n",
        "BIGQUERY_PROJECT_ID = \"fl-komtar-herbert-offer\" # @param {type: \"string\"}\n",
        "BIGQUERY_DATASET = \"analytics_211559993.events_*\" # @param {type: \"string\"}\n",
        "PACKAGE_NAME = \"jp.co.hardoff.renk.app.offer\" # @param {type: \"string\"}\n",
        "OUTPUT_BIGQUERY_PROJECT_ID = \"fl-komtar-analytics-dashboard\" # @param {type: \"string\"}\n",
        "IS_LATEST = False# @param {type:\"boolean\"}"
      ],
      "execution_count": 41,
      "outputs": []
    },
    {
      "cell_type": "markdown",
      "metadata": {
        "id": "pZaXKQMhYI-l"
      },
      "source": [
        "# Constants"
      ]
    },
    {
      "cell_type": "code",
      "metadata": {
        "id": "ysFoF5_wYIfg"
      },
      "source": [
        "SESSION_TIMEOUT_MINS = 30 #@param {type:\"number\"}\n",
        "METRICS_NAME = \"first-time-users-stay-time\""
      ],
      "execution_count": 42,
      "outputs": []
    },
    {
      "cell_type": "markdown",
      "metadata": {
        "id": "SOYr0O7KciFp"
      },
      "source": [
        "# Version"
      ]
    },
    {
      "cell_type": "code",
      "metadata": {
        "id": "8bL8BqavTjgq"
      },
      "source": [
        "VERSION = \"7\""
      ],
      "execution_count": 43,
      "outputs": []
    },
    {
      "cell_type": "markdown",
      "metadata": {
        "id": "zqsobkTsb85a"
      },
      "source": [
        "# Authorize"
      ]
    },
    {
      "cell_type": "code",
      "metadata": {
        "id": "gS6pC6T8b_0y"
      },
      "source": [
        "if DEBUG:\n",
        "    from google.colab import auth\n",
        "    auth.authenticate_user()"
      ],
      "execution_count": 44,
      "outputs": []
    },
    {
      "cell_type": "markdown",
      "metadata": {
        "id": "Vp6ChD90cK9Z"
      },
      "source": [
        "# Imports"
      ]
    },
    {
      "cell_type": "code",
      "metadata": {
        "id": "4LHqo4ZPu0rD"
      },
      "source": [
        "import pandas as pd\n",
        "import numpy as np\n",
        "from datetime import timedelta,datetime\n",
        "from pytz import timezone"
      ],
      "execution_count": 45,
      "outputs": []
    },
    {
      "cell_type": "markdown",
      "metadata": {
        "id": "Ur-9kcEycQ5a"
      },
      "source": [
        "# Get Input Datasets"
      ]
    },
    {
      "cell_type": "markdown",
      "metadata": {
        "id": "_WOkUJpzaah0"
      },
      "source": [
        "## データの取得期間"
      ]
    },
    {
      "cell_type": "code",
      "metadata": {
        "id": "_vD485eEGvBe",
        "colab": {
          "base_uri": "https://localhost:8080/"
        },
        "outputId": "a7fc5d58-21e3-4de1-d7f9-9a34b59d5a5d"
      },
      "source": [
        "if IS_LATEST:\n",
        "  date = (datetime.now(timezone(\"Asia/Tokyo\"))-timedelta(days=1))\n",
        "else:\n",
        "  date = datetime.strptime(DATE,\"%Y-%m-%d\") - timedelta(days=1)\n",
        "\n",
        "if FREQUENCY == \"daily\":\n",
        "  start = date\n",
        "  end = date\n",
        "elif FREQUENCY ==\"weekly\":\n",
        "  start = date-timedelta(days=6)\n",
        "  end = date \n",
        "elif FREQUENCY == \"monthly\":\n",
        "  end = date\n",
        "  start = datetime(end.year,end.month,1)\n",
        "else:\n",
        "  raise Exception(\"Invalid frequency value\")\n",
        "start_date = start.strftime(\"%Y%m%d\")\n",
        "end_date = end.strftime(\"%Y%m%d\")\n",
        "base_start = start-timedelta(days=1)\n",
        "base_end = end+timedelta(days=1)\n",
        "start_date, end_date"
      ],
      "execution_count": 46,
      "outputs": [
        {
          "output_type": "execute_result",
          "data": {
            "text/plain": [
              "('20191201', '20191231')"
            ]
          },
          "metadata": {},
          "execution_count": 46
        }
      ]
    },
    {
      "cell_type": "markdown",
      "metadata": {
        "id": "CzoDHx8daea6"
      },
      "source": [
        "## GBQからデータを取得する"
      ]
    },
    {
      "cell_type": "code",
      "metadata": {
        "id": "KLL50D69IsFG",
        "colab": {
          "base_uri": "https://localhost:8080/",
          "height": 660
        },
        "outputId": "9c13a235-c7a6-4252-f60e-cd9ee75dd1cc"
      },
      "source": [
        "duration_func = \"\"\"\n",
        "var current = arr[0];\n",
        "var result = [];\n",
        "for (var i = 0; i < arr.length - 1; i ++) {\n",
        "  var diff = arr[i + 1] - arr[i];\n",
        "  if ((diff / 1000000) >= 1800) {\n",
        "    result.push({\n",
        "      event_timestamp: current,\n",
        "      duration: (arr[i] - current) / 1000000,\n",
        "    });\n",
        "    current = arr[i + 1];       \n",
        "  }\n",
        "}\n",
        "result.push({\n",
        "  event_timestamp: current,\n",
        "  duration: (arr[arr.length - 1] - current) / 1000000,\n",
        "});\n",
        "result = result.filter((r) => r.duration > 0)\n",
        "return result;\n",
        "\"\"\"\n",
        "query = f\"\"\"\n",
        "  CREATE TEMP FUNCTION\n",
        "  DURATION(arr ARRAY<INT64>)\n",
        "  RETURNS ARRAY<STRUCT<event_timestamp INT64,\n",
        "  duration INT64>>\n",
        "  LANGUAGE js AS '''\n",
        "  {duration_func}\n",
        "  '''; \n",
        "  WITH\n",
        "  base_table as (\n",
        "    SELECT DISTINCT FORMAT_TIMESTAMP(\"%Y%m%d\", TIMESTAMP_MICROS(event_timestamp), 'Asia/Tokyo') AS JST,user_pseudo_id,platform, event_timestamp,user_first_touch_timestamp\n",
        "    FROM `{BIGQUERY_PROJECT_ID}.{BIGQUERY_DATASET}` \n",
        "    WHERE app_info.id like \"{PACKAGE_NAME}%\"  \n",
        "    AND _table_suffix BETWEEN \"{base_start.strftime(\"%Y%m%d\")}\" AND \"{base_end.strftime(\"%Y%m%d\")}\"\n",
        "    ),\n",
        "    event_arr AS (\n",
        "        SELECT\n",
        "        DATE(TIMESTAMP_MICROS(event_timestamp), \"Asia/Tokyo\") AS date,\n",
        "        user_pseudo_id,\n",
        "        UPPER(platform)　as OS,\n",
        "        user_first_touch_timestamp,\n",
        "        DURATION(ARRAY_AGG(event_timestamp ORDER BY event_timestamp)) AS duration_arr\n",
        "    FROM (\n",
        "    SELECT * FROM base_table\n",
        "    WHERE JST BETWEEN \"{start_date}\" AND \"{end_date}\"\n",
        "    UNION ALL\n",
        "    SELECT * FROM base_table \n",
        "    WHERE JST BETWEEN \"{start_date}\" AND \"{end_date}\" \n",
        "    )\n",
        "  GROUP BY\n",
        "    date,\n",
        "    user_pseudo_id,\n",
        "    user_first_touch_timestamp,\n",
        "    OS ),\n",
        "  events AS (\n",
        "    SELECT\n",
        "      date,\n",
        "      TIMESTAMP_MICROS(event_timestamp) AS Time,\n",
        "      user_pseudo_id,\n",
        "      user_first_touch_timestamp,\n",
        "      TIMESTAMP_MICROS(user_first_touch_timestamp) AS First_touch_Time,\n",
        "      OS,\n",
        "      darr.event_timestamp,\n",
        "      darr.duration\n",
        "    FROM\n",
        "      event_arr\n",
        "    CROSS JOIN UNNEST(event_arr.duration_arr) AS darr\n",
        "  )\n",
        "  SELECT *\n",
        "  FROM\n",
        "  events\n",
        "  ORDER BY user_pseudo_id \n",
        "\"\"\"\n",
        "df_session_duration = pd.DataFrame(columns = ['date', 'Time', 'user_pseudo_id', 'user_first_touch_timestamp','First_touch_Time', 'OS', 'event_timestamp', 'duration'])\n",
        "df_gbq = pd.io.gbq.read_gbq(query, project_id = BIGQUERY_PROJECT_ID)\n",
        "df_session_duration = pd.concat([df_session_duration, df_gbq])\n",
        "\n",
        "df_session_duration = df_session_duration[(df_session_duration[\"date\"] >= start_date) & (df_session_duration[\"date\"] <= end_date)]\n",
        "df_session_duration"
      ],
      "execution_count": 47,
      "outputs": [
        {
          "output_type": "execute_result",
          "data": {
            "text/html": [
              "<div>\n",
              "<style scoped>\n",
              "    .dataframe tbody tr th:only-of-type {\n",
              "        vertical-align: middle;\n",
              "    }\n",
              "\n",
              "    .dataframe tbody tr th {\n",
              "        vertical-align: top;\n",
              "    }\n",
              "\n",
              "    .dataframe thead th {\n",
              "        text-align: right;\n",
              "    }\n",
              "</style>\n",
              "<table border=\"1\" class=\"dataframe\">\n",
              "  <thead>\n",
              "    <tr style=\"text-align: right;\">\n",
              "      <th></th>\n",
              "      <th>date</th>\n",
              "      <th>Time</th>\n",
              "      <th>user_pseudo_id</th>\n",
              "      <th>user_first_touch_timestamp</th>\n",
              "      <th>First_touch_Time</th>\n",
              "      <th>OS</th>\n",
              "      <th>event_timestamp</th>\n",
              "      <th>duration</th>\n",
              "    </tr>\n",
              "  </thead>\n",
              "  <tbody>\n",
              "    <tr>\n",
              "      <th>0</th>\n",
              "      <td>2019-12-01</td>\n",
              "      <td>2019-11-30 22:31:36.621000+00:00</td>\n",
              "      <td>0011eaf47c077feeff7bb38a729e22b7</td>\n",
              "      <td>1574332514097000</td>\n",
              "      <td>2019-11-21 10:35:14.097000+00:00</td>\n",
              "      <td>ANDROID</td>\n",
              "      <td>1575153096621000</td>\n",
              "      <td>324</td>\n",
              "    </tr>\n",
              "    <tr>\n",
              "      <th>1</th>\n",
              "      <td>2019-12-01</td>\n",
              "      <td>2019-12-01 08:45:10.220000+00:00</td>\n",
              "      <td>0011eaf47c077feeff7bb38a729e22b7</td>\n",
              "      <td>1574332514097000</td>\n",
              "      <td>2019-11-21 10:35:14.097000+00:00</td>\n",
              "      <td>ANDROID</td>\n",
              "      <td>1575189910220000</td>\n",
              "      <td>497</td>\n",
              "    </tr>\n",
              "    <tr>\n",
              "      <th>2</th>\n",
              "      <td>2019-12-04</td>\n",
              "      <td>2019-12-04 01:34:43.038000+00:00</td>\n",
              "      <td>0011eaf47c077feeff7bb38a729e22b7</td>\n",
              "      <td>1574332514097000</td>\n",
              "      <td>2019-11-21 10:35:14.097000+00:00</td>\n",
              "      <td>ANDROID</td>\n",
              "      <td>1575423283038000</td>\n",
              "      <td>10</td>\n",
              "    </tr>\n",
              "    <tr>\n",
              "      <th>3</th>\n",
              "      <td>2019-12-04</td>\n",
              "      <td>2019-12-04 10:22:55.925000+00:00</td>\n",
              "      <td>0011eaf47c077feeff7bb38a729e22b7</td>\n",
              "      <td>1574332514097000</td>\n",
              "      <td>2019-11-21 10:35:14.097000+00:00</td>\n",
              "      <td>ANDROID</td>\n",
              "      <td>1575454975925000</td>\n",
              "      <td>112</td>\n",
              "    </tr>\n",
              "    <tr>\n",
              "      <th>4</th>\n",
              "      <td>2019-12-03</td>\n",
              "      <td>2019-12-02 15:05:56.330000+00:00</td>\n",
              "      <td>0011eaf47c077feeff7bb38a729e22b7</td>\n",
              "      <td>1574332514097000</td>\n",
              "      <td>2019-11-21 10:35:14.097000+00:00</td>\n",
              "      <td>ANDROID</td>\n",
              "      <td>1575299156330000</td>\n",
              "      <td>7</td>\n",
              "    </tr>\n",
              "    <tr>\n",
              "      <th>...</th>\n",
              "      <td>...</td>\n",
              "      <td>...</td>\n",
              "      <td>...</td>\n",
              "      <td>...</td>\n",
              "      <td>...</td>\n",
              "      <td>...</td>\n",
              "      <td>...</td>\n",
              "      <td>...</td>\n",
              "    </tr>\n",
              "    <tr>\n",
              "      <th>29580</th>\n",
              "      <td>2019-12-25</td>\n",
              "      <td>2019-12-25 09:01:32.642000+00:00</td>\n",
              "      <td>ff42bb689f989b49bb0b522942627d94</td>\n",
              "      <td>1572590773186000</td>\n",
              "      <td>2019-11-01 06:46:13.186000+00:00</td>\n",
              "      <td>ANDROID</td>\n",
              "      <td>1577264492642000</td>\n",
              "      <td>125</td>\n",
              "    </tr>\n",
              "    <tr>\n",
              "      <th>29581</th>\n",
              "      <td>2019-12-01</td>\n",
              "      <td>2019-12-01 04:27:34.036000+00:00</td>\n",
              "      <td>ffb37e2bc44e6c6a832b3d1056871462</td>\n",
              "      <td>1574162881095000</td>\n",
              "      <td>2019-11-19 11:28:01.095000+00:00</td>\n",
              "      <td>ANDROID</td>\n",
              "      <td>1575174454036000</td>\n",
              "      <td>1</td>\n",
              "    </tr>\n",
              "    <tr>\n",
              "      <th>29582</th>\n",
              "      <td>2019-12-31</td>\n",
              "      <td>2019-12-31 11:57:22.906000+00:00</td>\n",
              "      <td>ffb37e2bc44e6c6a832b3d1056871462</td>\n",
              "      <td>1574162881095000</td>\n",
              "      <td>2019-11-19 11:28:01.095000+00:00</td>\n",
              "      <td>ANDROID</td>\n",
              "      <td>1577793442906000</td>\n",
              "      <td>10</td>\n",
              "    </tr>\n",
              "    <tr>\n",
              "      <th>29583</th>\n",
              "      <td>2019-12-04</td>\n",
              "      <td>2019-12-04 08:25:42.985000+00:00</td>\n",
              "      <td>ffb37e2bc44e6c6a832b3d1056871462</td>\n",
              "      <td>1574162881095000</td>\n",
              "      <td>2019-11-19 11:28:01.095000+00:00</td>\n",
              "      <td>ANDROID</td>\n",
              "      <td>1575447942985000</td>\n",
              "      <td>2</td>\n",
              "    </tr>\n",
              "    <tr>\n",
              "      <th>29584</th>\n",
              "      <td>2019-12-30</td>\n",
              "      <td>2019-12-30 00:03:21.627000+00:00</td>\n",
              "      <td>ffeb5006b1e331d26dbd6bedfeda225d</td>\n",
              "      <td>1577664201627000</td>\n",
              "      <td>2019-12-30 00:03:21.627000+00:00</td>\n",
              "      <td>ANDROID</td>\n",
              "      <td>1577664201627000</td>\n",
              "      <td>579</td>\n",
              "    </tr>\n",
              "  </tbody>\n",
              "</table>\n",
              "<p>29585 rows × 8 columns</p>\n",
              "</div>"
            ],
            "text/plain": [
              "            date                             Time  ...   event_timestamp duration\n",
              "0     2019-12-01 2019-11-30 22:31:36.621000+00:00  ...  1575153096621000      324\n",
              "1     2019-12-01 2019-12-01 08:45:10.220000+00:00  ...  1575189910220000      497\n",
              "2     2019-12-04 2019-12-04 01:34:43.038000+00:00  ...  1575423283038000       10\n",
              "3     2019-12-04 2019-12-04 10:22:55.925000+00:00  ...  1575454975925000      112\n",
              "4     2019-12-03 2019-12-02 15:05:56.330000+00:00  ...  1575299156330000        7\n",
              "...          ...                              ...  ...               ...      ...\n",
              "29580 2019-12-25 2019-12-25 09:01:32.642000+00:00  ...  1577264492642000      125\n",
              "29581 2019-12-01 2019-12-01 04:27:34.036000+00:00  ...  1575174454036000        1\n",
              "29582 2019-12-31 2019-12-31 11:57:22.906000+00:00  ...  1577793442906000       10\n",
              "29583 2019-12-04 2019-12-04 08:25:42.985000+00:00  ...  1575447942985000        2\n",
              "29584 2019-12-30 2019-12-30 00:03:21.627000+00:00  ...  1577664201627000      579\n",
              "\n",
              "[29585 rows x 8 columns]"
            ]
          },
          "metadata": {},
          "execution_count": 47
        }
      ]
    },
    {
      "cell_type": "markdown",
      "metadata": {
        "id": "AaNMM_kealMr"
      },
      "source": [
        "## 期間内の初回起動者を取得"
      ]
    },
    {
      "cell_type": "code",
      "metadata": {
        "id": "JagAc6sZx0c3",
        "outputId": "7639ae4b-90d5-45e7-9322-c9cbea2b12f4",
        "colab": {
          "base_uri": "https://localhost:8080/"
        }
      },
      "source": [
        "unique_first_users = df_session_duration[df_session_duration[\"Time\"]==df_session_duration[\"First_touch_Time\"]][\"user_pseudo_id\"].unique()\n",
        "unique_first_users"
      ],
      "execution_count": 48,
      "outputs": [
        {
          "output_type": "execute_result",
          "data": {
            "text/plain": [
              "array(['00230558A7FF4F399B1D98EFDC358FFC',\n",
              "       '0042D7600F454FBBADBCE1C245F2DF8B',\n",
              "       '0046f44fe541de8c3182502667310e19', ...,\n",
              "       'fee0e76dd28a262688165434565ad24f',\n",
              "       'ff3263fe3b9e3fffbf06fd1b57db68e2',\n",
              "       'ffeb5006b1e331d26dbd6bedfeda225d'], dtype=object)"
            ]
          },
          "metadata": {},
          "execution_count": 48
        }
      ]
    },
    {
      "cell_type": "markdown",
      "metadata": {
        "id": "w8rL-Edmaw-j"
      },
      "source": [
        "## 期間内のユニークなユーザーの行取得"
      ]
    },
    {
      "cell_type": "code",
      "metadata": {
        "id": "k7v6RcouslZy",
        "colab": {
          "base_uri": "https://localhost:8080/",
          "height": 609
        },
        "outputId": "df6a2e04-0b24-43c8-fa81-bf3b1f2c9e4e"
      },
      "source": [
        "df_first_users_duration = df_session_duration[df_session_duration[\"user_pseudo_id\"].isin(unique_first_users)]\n",
        "df_first_users_duration"
      ],
      "execution_count": 49,
      "outputs": [
        {
          "output_type": "execute_result",
          "data": {
            "text/html": [
              "<div>\n",
              "<style scoped>\n",
              "    .dataframe tbody tr th:only-of-type {\n",
              "        vertical-align: middle;\n",
              "    }\n",
              "\n",
              "    .dataframe tbody tr th {\n",
              "        vertical-align: top;\n",
              "    }\n",
              "\n",
              "    .dataframe thead th {\n",
              "        text-align: right;\n",
              "    }\n",
              "</style>\n",
              "<table border=\"1\" class=\"dataframe\">\n",
              "  <thead>\n",
              "    <tr style=\"text-align: right;\">\n",
              "      <th></th>\n",
              "      <th>date</th>\n",
              "      <th>Time</th>\n",
              "      <th>user_pseudo_id</th>\n",
              "      <th>user_first_touch_timestamp</th>\n",
              "      <th>First_touch_Time</th>\n",
              "      <th>OS</th>\n",
              "      <th>event_timestamp</th>\n",
              "      <th>duration</th>\n",
              "    </tr>\n",
              "  </thead>\n",
              "  <tbody>\n",
              "    <tr>\n",
              "      <th>23</th>\n",
              "      <td>2019-12-05</td>\n",
              "      <td>2019-12-04 22:29:52.195001+00:00</td>\n",
              "      <td>00230558A7FF4F399B1D98EFDC358FFC</td>\n",
              "      <td>1575251548873000</td>\n",
              "      <td>2019-12-02 01:52:28.873000+00:00</td>\n",
              "      <td>IOS</td>\n",
              "      <td>1575498592195001</td>\n",
              "      <td>1606</td>\n",
              "    </tr>\n",
              "    <tr>\n",
              "      <th>24</th>\n",
              "      <td>2019-12-05</td>\n",
              "      <td>2019-12-05 00:29:32.215001+00:00</td>\n",
              "      <td>00230558A7FF4F399B1D98EFDC358FFC</td>\n",
              "      <td>1575251548873000</td>\n",
              "      <td>2019-12-02 01:52:28.873000+00:00</td>\n",
              "      <td>IOS</td>\n",
              "      <td>1575505772215001</td>\n",
              "      <td>7</td>\n",
              "    </tr>\n",
              "    <tr>\n",
              "      <th>25</th>\n",
              "      <td>2019-12-05</td>\n",
              "      <td>2019-12-05 03:15:06.412001+00:00</td>\n",
              "      <td>00230558A7FF4F399B1D98EFDC358FFC</td>\n",
              "      <td>1575251548873000</td>\n",
              "      <td>2019-12-02 01:52:28.873000+00:00</td>\n",
              "      <td>IOS</td>\n",
              "      <td>1575515706412001</td>\n",
              "      <td>6</td>\n",
              "    </tr>\n",
              "    <tr>\n",
              "      <th>26</th>\n",
              "      <td>2019-12-05</td>\n",
              "      <td>2019-12-05 05:55:00.408000+00:00</td>\n",
              "      <td>00230558A7FF4F399B1D98EFDC358FFC</td>\n",
              "      <td>1575251548873000</td>\n",
              "      <td>2019-12-02 01:52:28.873000+00:00</td>\n",
              "      <td>IOS</td>\n",
              "      <td>1575525300408000</td>\n",
              "      <td>4</td>\n",
              "    </tr>\n",
              "    <tr>\n",
              "      <th>27</th>\n",
              "      <td>2019-12-05</td>\n",
              "      <td>2019-12-05 08:35:40.019001+00:00</td>\n",
              "      <td>00230558A7FF4F399B1D98EFDC358FFC</td>\n",
              "      <td>1575251548873000</td>\n",
              "      <td>2019-12-02 01:52:28.873000+00:00</td>\n",
              "      <td>IOS</td>\n",
              "      <td>1575534940019001</td>\n",
              "      <td>4</td>\n",
              "    </tr>\n",
              "    <tr>\n",
              "      <th>...</th>\n",
              "      <td>...</td>\n",
              "      <td>...</td>\n",
              "      <td>...</td>\n",
              "      <td>...</td>\n",
              "      <td>...</td>\n",
              "      <td>...</td>\n",
              "      <td>...</td>\n",
              "      <td>...</td>\n",
              "    </tr>\n",
              "    <tr>\n",
              "      <th>29570</th>\n",
              "      <td>2019-12-09</td>\n",
              "      <td>2019-12-09 05:25:15.880000+00:00</td>\n",
              "      <td>fee0e76dd28a262688165434565ad24f</td>\n",
              "      <td>1575869115880000</td>\n",
              "      <td>2019-12-09 05:25:15.880000+00:00</td>\n",
              "      <td>ANDROID</td>\n",
              "      <td>1575869115880000</td>\n",
              "      <td>17</td>\n",
              "    </tr>\n",
              "    <tr>\n",
              "      <th>29571</th>\n",
              "      <td>2019-12-09</td>\n",
              "      <td>2019-12-09 08:51:06.358000+00:00</td>\n",
              "      <td>fee0e76dd28a262688165434565ad24f</td>\n",
              "      <td>1575869115880000</td>\n",
              "      <td>2019-12-09 05:25:15.880000+00:00</td>\n",
              "      <td>ANDROID</td>\n",
              "      <td>1575881466358000</td>\n",
              "      <td>80</td>\n",
              "    </tr>\n",
              "    <tr>\n",
              "      <th>29572</th>\n",
              "      <td>2019-12-26</td>\n",
              "      <td>2019-12-25 18:20:54.756000+00:00</td>\n",
              "      <td>fee0e76dd28a262688165434565ad24f</td>\n",
              "      <td>1575869115880000</td>\n",
              "      <td>2019-12-09 05:25:15.880000+00:00</td>\n",
              "      <td>ANDROID</td>\n",
              "      <td>1577298054756000</td>\n",
              "      <td>2</td>\n",
              "    </tr>\n",
              "    <tr>\n",
              "      <th>29576</th>\n",
              "      <td>2019-12-07</td>\n",
              "      <td>2019-12-06 23:53:23.018000+00:00</td>\n",
              "      <td>ff3263fe3b9e3fffbf06fd1b57db68e2</td>\n",
              "      <td>1575676403018000</td>\n",
              "      <td>2019-12-06 23:53:23.018000+00:00</td>\n",
              "      <td>ANDROID</td>\n",
              "      <td>1575676403018000</td>\n",
              "      <td>16</td>\n",
              "    </tr>\n",
              "    <tr>\n",
              "      <th>29584</th>\n",
              "      <td>2019-12-30</td>\n",
              "      <td>2019-12-30 00:03:21.627000+00:00</td>\n",
              "      <td>ffeb5006b1e331d26dbd6bedfeda225d</td>\n",
              "      <td>1577664201627000</td>\n",
              "      <td>2019-12-30 00:03:21.627000+00:00</td>\n",
              "      <td>ANDROID</td>\n",
              "      <td>1577664201627000</td>\n",
              "      <td>579</td>\n",
              "    </tr>\n",
              "  </tbody>\n",
              "</table>\n",
              "<p>14386 rows × 8 columns</p>\n",
              "</div>"
            ],
            "text/plain": [
              "            date                             Time  ...   event_timestamp duration\n",
              "23    2019-12-05 2019-12-04 22:29:52.195001+00:00  ...  1575498592195001     1606\n",
              "24    2019-12-05 2019-12-05 00:29:32.215001+00:00  ...  1575505772215001        7\n",
              "25    2019-12-05 2019-12-05 03:15:06.412001+00:00  ...  1575515706412001        6\n",
              "26    2019-12-05 2019-12-05 05:55:00.408000+00:00  ...  1575525300408000        4\n",
              "27    2019-12-05 2019-12-05 08:35:40.019001+00:00  ...  1575534940019001        4\n",
              "...          ...                              ...  ...               ...      ...\n",
              "29570 2019-12-09 2019-12-09 05:25:15.880000+00:00  ...  1575869115880000       17\n",
              "29571 2019-12-09 2019-12-09 08:51:06.358000+00:00  ...  1575881466358000       80\n",
              "29572 2019-12-26 2019-12-25 18:20:54.756000+00:00  ...  1577298054756000        2\n",
              "29576 2019-12-07 2019-12-06 23:53:23.018000+00:00  ...  1575676403018000       16\n",
              "29584 2019-12-30 2019-12-30 00:03:21.627000+00:00  ...  1577664201627000      579\n",
              "\n",
              "[14386 rows x 8 columns]"
            ]
          },
          "metadata": {},
          "execution_count": 49
        }
      ]
    },
    {
      "cell_type": "markdown",
      "metadata": {
        "id": "ZgqiLfPktoEb"
      },
      "source": [
        "# All Device Duration"
      ]
    },
    {
      "cell_type": "code",
      "metadata": {
        "id": "tqriq--ya6MF",
        "colab": {
          "base_uri": "https://localhost:8080/"
        },
        "outputId": "7bc739b2-36f7-4b46-fe96-9e19dc7ce9ac"
      },
      "source": [
        "session_timeout = pd.Timedelta('%d min' % SESSION_TIMEOUT_MINS).total_seconds()\n",
        "session_timeout"
      ],
      "execution_count": 50,
      "outputs": [
        {
          "output_type": "execute_result",
          "data": {
            "text/plain": [
              "1800.0"
            ]
          },
          "metadata": {},
          "execution_count": 50
        }
      ]
    },
    {
      "cell_type": "code",
      "metadata": {
        "id": "fNmiWye_OISk",
        "colab": {
          "base_uri": "https://localhost:8080/",
          "height": 419
        },
        "outputId": "743665c9-17b7-4732-eb24-9b53e8fce65f"
      },
      "source": [
        "session_duration_list = []\n",
        "# ユーザ毎に滞在時間を求める。\n",
        "for g_user_id, df_g_user in df_first_users_duration.groupby([\"user_pseudo_id\",\"OS\"]):\n",
        "  previous_row = None\n",
        "  session_duration = pd.Timedelta('0 min')\n",
        "# 各ユーザのイベントを1つ1つ確認する。\n",
        "  for row in df_g_user.itertuples():\n",
        "    # 一番初めのイベントの値を保存する。\n",
        "    if previous_row is None:\n",
        "      previous_row = row\n",
        "      session_duration = pd.Timedelta(seconds = previous_row.duration)\n",
        "      continue\n",
        "    # 前後のイベント間隔が30分以上ひらいた時、滞在時間を求める。\n",
        "    diff_session = datetime.fromtimestamp(row.event_timestamp/1000000)-datetime.fromtimestamp(previous_row.event_timestamp/1000000) #追加\n",
        "    diff_session = diff_session.total_seconds() #追加\n",
        "    if diff_session > session_timeout:\n",
        "      session_duration_list.append({\n",
        "          \"date\": previous_row.date, \n",
        "          \"event_timestamp\": previous_row.event_timestamp,\n",
        "          \"user_pseudo_id\": g_user_id[0],\n",
        "          \"OS\" : g_user_id[1], \n",
        "          \"session_duration\": session_duration,\n",
        "      })\n",
        "      session_duration = pd.Timedelta(seconds = row.duration)\n",
        "    else:\n",
        "        # 30分以下の場合は同じセッションに該当するとみなす。\n",
        "      session_duration += pd.Timedelta(seconds = row.duration)\n",
        "    previous_row = row\n",
        "    # 一番最後のイベントを計測する。\n",
        "  session_duration = pd.Timedelta(seconds = row.duration)\n",
        "  session_duration_list.append({\n",
        "      \"date\" : previous_row.date, \n",
        "      \"event_timestamp\": previous_row.event_timestamp,\n",
        "      \"user_pseudo_id\" : g_user_id[0],\n",
        "      \"OS\" : g_user_id[1], \n",
        "      \"session_duration\": session_duration,\n",
        "  })\n",
        "df_session_duration_list = pd.DataFrame(session_duration_list)\n",
        "df_session_duration_list = df_session_duration_list.sort_values(\"date\").reset_index(drop=True)\n",
        "df_session_duration_list[\"session_duration\"] = (df_session_duration_list.session_duration.astype(np.int64) / 1000000000).astype(\"int64\")\n",
        "df_session_duration_list.sort_values(\"user_pseudo_id\")"
      ],
      "execution_count": 51,
      "outputs": [
        {
          "output_type": "execute_result",
          "data": {
            "text/html": [
              "<div>\n",
              "<style scoped>\n",
              "    .dataframe tbody tr th:only-of-type {\n",
              "        vertical-align: middle;\n",
              "    }\n",
              "\n",
              "    .dataframe tbody tr th {\n",
              "        vertical-align: top;\n",
              "    }\n",
              "\n",
              "    .dataframe thead th {\n",
              "        text-align: right;\n",
              "    }\n",
              "</style>\n",
              "<table border=\"1\" class=\"dataframe\">\n",
              "  <thead>\n",
              "    <tr style=\"text-align: right;\">\n",
              "      <th></th>\n",
              "      <th>date</th>\n",
              "      <th>event_timestamp</th>\n",
              "      <th>user_pseudo_id</th>\n",
              "      <th>OS</th>\n",
              "      <th>session_duration</th>\n",
              "    </tr>\n",
              "  </thead>\n",
              "  <tbody>\n",
              "    <tr>\n",
              "      <th>293</th>\n",
              "      <td>2019-12-02</td>\n",
              "      <td>1575265104849000</td>\n",
              "      <td>00230558A7FF4F399B1D98EFDC358FFC</td>\n",
              "      <td>IOS</td>\n",
              "      <td>10</td>\n",
              "    </tr>\n",
              "    <tr>\n",
              "      <th>8638</th>\n",
              "      <td>2019-12-23</td>\n",
              "      <td>1577067092087000</td>\n",
              "      <td>00230558A7FF4F399B1D98EFDC358FFC</td>\n",
              "      <td>IOS</td>\n",
              "      <td>304</td>\n",
              "    </tr>\n",
              "    <tr>\n",
              "      <th>8623</th>\n",
              "      <td>2019-12-23</td>\n",
              "      <td>1577061940197001</td>\n",
              "      <td>00230558A7FF4F399B1D98EFDC358FFC</td>\n",
              "      <td>IOS</td>\n",
              "      <td>3227</td>\n",
              "    </tr>\n",
              "    <tr>\n",
              "      <th>294</th>\n",
              "      <td>2019-12-02</td>\n",
              "      <td>1575269227588000</td>\n",
              "      <td>00230558A7FF4F399B1D98EFDC358FFC</td>\n",
              "      <td>IOS</td>\n",
              "      <td>1275</td>\n",
              "    </tr>\n",
              "    <tr>\n",
              "      <th>10292</th>\n",
              "      <td>2019-12-26</td>\n",
              "      <td>1577313581400000</td>\n",
              "      <td>00230558A7FF4F399B1D98EFDC358FFC</td>\n",
              "      <td>IOS</td>\n",
              "      <td>10</td>\n",
              "    </tr>\n",
              "    <tr>\n",
              "      <th>...</th>\n",
              "      <td>...</td>\n",
              "      <td>...</td>\n",
              "      <td>...</td>\n",
              "      <td>...</td>\n",
              "      <td>...</td>\n",
              "    </tr>\n",
              "    <tr>\n",
              "      <th>2731</th>\n",
              "      <td>2019-12-09</td>\n",
              "      <td>1575869115880000</td>\n",
              "      <td>fee0e76dd28a262688165434565ad24f</td>\n",
              "      <td>ANDROID</td>\n",
              "      <td>856</td>\n",
              "    </tr>\n",
              "    <tr>\n",
              "      <th>10248</th>\n",
              "      <td>2019-12-26</td>\n",
              "      <td>1577298054756000</td>\n",
              "      <td>fee0e76dd28a262688165434565ad24f</td>\n",
              "      <td>ANDROID</td>\n",
              "      <td>2</td>\n",
              "    </tr>\n",
              "    <tr>\n",
              "      <th>2732</th>\n",
              "      <td>2019-12-09</td>\n",
              "      <td>1575881466358000</td>\n",
              "      <td>fee0e76dd28a262688165434565ad24f</td>\n",
              "      <td>ANDROID</td>\n",
              "      <td>80</td>\n",
              "    </tr>\n",
              "    <tr>\n",
              "      <th>1759</th>\n",
              "      <td>2019-12-07</td>\n",
              "      <td>1575676403018000</td>\n",
              "      <td>ff3263fe3b9e3fffbf06fd1b57db68e2</td>\n",
              "      <td>ANDROID</td>\n",
              "      <td>16</td>\n",
              "    </tr>\n",
              "    <tr>\n",
              "      <th>11866</th>\n",
              "      <td>2019-12-30</td>\n",
              "      <td>1577664201627000</td>\n",
              "      <td>ffeb5006b1e331d26dbd6bedfeda225d</td>\n",
              "      <td>ANDROID</td>\n",
              "      <td>579</td>\n",
              "    </tr>\n",
              "  </tbody>\n",
              "</table>\n",
              "<p>12296 rows × 5 columns</p>\n",
              "</div>"
            ],
            "text/plain": [
              "            date   event_timestamp  ...       OS session_duration\n",
              "293   2019-12-02  1575265104849000  ...      IOS               10\n",
              "8638  2019-12-23  1577067092087000  ...      IOS              304\n",
              "8623  2019-12-23  1577061940197001  ...      IOS             3227\n",
              "294   2019-12-02  1575269227588000  ...      IOS             1275\n",
              "10292 2019-12-26  1577313581400000  ...      IOS               10\n",
              "...          ...               ...  ...      ...              ...\n",
              "2731  2019-12-09  1575869115880000  ...  ANDROID              856\n",
              "10248 2019-12-26  1577298054756000  ...  ANDROID                2\n",
              "2732  2019-12-09  1575881466358000  ...  ANDROID               80\n",
              "1759  2019-12-07  1575676403018000  ...  ANDROID               16\n",
              "11866 2019-12-30  1577664201627000  ...  ANDROID              579\n",
              "\n",
              "[12296 rows x 5 columns]"
            ]
          },
          "metadata": {},
          "execution_count": 51
        }
      ]
    },
    {
      "cell_type": "code",
      "metadata": {
        "id": "XtcNRr4Ya-4c",
        "colab": {
          "base_uri": "https://localhost:8080/"
        },
        "outputId": "9f2fd6e1-1f29-4e16-b42a-c20b30139db7"
      },
      "source": [
        "all_first_users_stay_time = df_session_duration_list[\"session_duration\"].mean()\n",
        "all_first_users_stay_time"
      ],
      "execution_count": 52,
      "outputs": [
        {
          "output_type": "execute_result",
          "data": {
            "text/plain": [
              "489.54651919323356"
            ]
          },
          "metadata": {},
          "execution_count": 52
        }
      ]
    },
    {
      "cell_type": "markdown",
      "metadata": {
        "id": "6feyEDGutvDy"
      },
      "source": [
        "# Android"
      ]
    },
    {
      "cell_type": "code",
      "metadata": {
        "id": "7rvbANAMtzST",
        "colab": {
          "base_uri": "https://localhost:8080/",
          "height": 419
        },
        "outputId": "81ad6170-2ec6-4f5c-d5e9-d7268648d399"
      },
      "source": [
        "df_android_users = df_session_duration_list[df_session_duration_list[\"OS\"]==\"ANDROID\"]\n",
        "df_android_users"
      ],
      "execution_count": 53,
      "outputs": [
        {
          "output_type": "execute_result",
          "data": {
            "text/html": [
              "<div>\n",
              "<style scoped>\n",
              "    .dataframe tbody tr th:only-of-type {\n",
              "        vertical-align: middle;\n",
              "    }\n",
              "\n",
              "    .dataframe tbody tr th {\n",
              "        vertical-align: top;\n",
              "    }\n",
              "\n",
              "    .dataframe thead th {\n",
              "        text-align: right;\n",
              "    }\n",
              "</style>\n",
              "<table border=\"1\" class=\"dataframe\">\n",
              "  <thead>\n",
              "    <tr style=\"text-align: right;\">\n",
              "      <th></th>\n",
              "      <th>date</th>\n",
              "      <th>event_timestamp</th>\n",
              "      <th>user_pseudo_id</th>\n",
              "      <th>OS</th>\n",
              "      <th>session_duration</th>\n",
              "    </tr>\n",
              "  </thead>\n",
              "  <tbody>\n",
              "    <tr>\n",
              "      <th>2</th>\n",
              "      <td>2019-12-01</td>\n",
              "      <td>1575175402590000</td>\n",
              "      <td>3cccd2c1ff74ffec1e0725e92fb14778</td>\n",
              "      <td>ANDROID</td>\n",
              "      <td>5463</td>\n",
              "    </tr>\n",
              "    <tr>\n",
              "      <th>3</th>\n",
              "      <td>2019-12-01</td>\n",
              "      <td>1575184582984000</td>\n",
              "      <td>3cccd2c1ff74ffec1e0725e92fb14778</td>\n",
              "      <td>ANDROID</td>\n",
              "      <td>3688</td>\n",
              "    </tr>\n",
              "    <tr>\n",
              "      <th>5</th>\n",
              "      <td>2019-12-01</td>\n",
              "      <td>1575198908012000</td>\n",
              "      <td>0e53fbc76e24d1058fcc6c2e1591a3f1</td>\n",
              "      <td>ANDROID</td>\n",
              "      <td>69</td>\n",
              "    </tr>\n",
              "    <tr>\n",
              "      <th>6</th>\n",
              "      <td>2019-12-01</td>\n",
              "      <td>1575169076306000</td>\n",
              "      <td>0dfa16f07929fe68a463c69624813e5c</td>\n",
              "      <td>ANDROID</td>\n",
              "      <td>112</td>\n",
              "    </tr>\n",
              "    <tr>\n",
              "      <th>7</th>\n",
              "      <td>2019-12-01</td>\n",
              "      <td>1575190540599000</td>\n",
              "      <td>048f18deb743521dea454f00382d0442</td>\n",
              "      <td>ANDROID</td>\n",
              "      <td>485</td>\n",
              "    </tr>\n",
              "    <tr>\n",
              "      <th>...</th>\n",
              "      <td>...</td>\n",
              "      <td>...</td>\n",
              "      <td>...</td>\n",
              "      <td>...</td>\n",
              "      <td>...</td>\n",
              "    </tr>\n",
              "    <tr>\n",
              "      <th>12289</th>\n",
              "      <td>2019-12-31</td>\n",
              "      <td>1577752523036000</td>\n",
              "      <td>5a197a8b0116d704070f870d09a560c2</td>\n",
              "      <td>ANDROID</td>\n",
              "      <td>760</td>\n",
              "    </tr>\n",
              "    <tr>\n",
              "      <th>12290</th>\n",
              "      <td>2019-12-31</td>\n",
              "      <td>1577759736682000</td>\n",
              "      <td>5a197a8b0116d704070f870d09a560c2</td>\n",
              "      <td>ANDROID</td>\n",
              "      <td>1887</td>\n",
              "    </tr>\n",
              "    <tr>\n",
              "      <th>12291</th>\n",
              "      <td>2019-12-31</td>\n",
              "      <td>1577769605370000</td>\n",
              "      <td>5a197a8b0116d704070f870d09a560c2</td>\n",
              "      <td>ANDROID</td>\n",
              "      <td>2942</td>\n",
              "    </tr>\n",
              "    <tr>\n",
              "      <th>12292</th>\n",
              "      <td>2019-12-31</td>\n",
              "      <td>1577753418909000</td>\n",
              "      <td>5a6a95d72f42f8638c9c8d58bc5fb92e</td>\n",
              "      <td>ANDROID</td>\n",
              "      <td>15</td>\n",
              "    </tr>\n",
              "    <tr>\n",
              "      <th>12293</th>\n",
              "      <td>2019-12-31</td>\n",
              "      <td>1577766095238000</td>\n",
              "      <td>5a720be69562f9f3d60d11e500ac6f18</td>\n",
              "      <td>ANDROID</td>\n",
              "      <td>24</td>\n",
              "    </tr>\n",
              "  </tbody>\n",
              "</table>\n",
              "<p>3924 rows × 5 columns</p>\n",
              "</div>"
            ],
            "text/plain": [
              "            date   event_timestamp  ...       OS session_duration\n",
              "2     2019-12-01  1575175402590000  ...  ANDROID             5463\n",
              "3     2019-12-01  1575184582984000  ...  ANDROID             3688\n",
              "5     2019-12-01  1575198908012000  ...  ANDROID               69\n",
              "6     2019-12-01  1575169076306000  ...  ANDROID              112\n",
              "7     2019-12-01  1575190540599000  ...  ANDROID              485\n",
              "...          ...               ...  ...      ...              ...\n",
              "12289 2019-12-31  1577752523036000  ...  ANDROID              760\n",
              "12290 2019-12-31  1577759736682000  ...  ANDROID             1887\n",
              "12291 2019-12-31  1577769605370000  ...  ANDROID             2942\n",
              "12292 2019-12-31  1577753418909000  ...  ANDROID               15\n",
              "12293 2019-12-31  1577766095238000  ...  ANDROID               24\n",
              "\n",
              "[3924 rows x 5 columns]"
            ]
          },
          "metadata": {},
          "execution_count": 53
        }
      ]
    },
    {
      "cell_type": "code",
      "metadata": {
        "id": "VTJ28WH4bGXl",
        "colab": {
          "base_uri": "https://localhost:8080/"
        },
        "outputId": "60338094-59a2-4a5c-cdfd-ce25bbb5c294"
      },
      "source": [
        "android_avg_session_duration = df_android_users[\"session_duration\"].mean()\n",
        "android_avg_session_duration"
      ],
      "execution_count": 54,
      "outputs": [
        {
          "output_type": "execute_result",
          "data": {
            "text/plain": [
              "545.6745667686034"
            ]
          },
          "metadata": {},
          "execution_count": 54
        }
      ]
    },
    {
      "cell_type": "markdown",
      "metadata": {
        "id": "Rs5EnqJ2tw1o"
      },
      "source": [
        "# IOS"
      ]
    },
    {
      "cell_type": "code",
      "metadata": {
        "id": "osmptjM9t8TE",
        "colab": {
          "base_uri": "https://localhost:8080/",
          "height": 419
        },
        "outputId": "501e0a84-8a05-4281-9e3a-edd6349a4f95"
      },
      "source": [
        "df_ios_users = df_session_duration_list[df_session_duration_list[\"OS\"]==\"IOS\"]\n",
        "df_ios_users"
      ],
      "execution_count": 55,
      "outputs": [
        {
          "output_type": "execute_result",
          "data": {
            "text/html": [
              "<div>\n",
              "<style scoped>\n",
              "    .dataframe tbody tr th:only-of-type {\n",
              "        vertical-align: middle;\n",
              "    }\n",
              "\n",
              "    .dataframe tbody tr th {\n",
              "        vertical-align: top;\n",
              "    }\n",
              "\n",
              "    .dataframe thead th {\n",
              "        text-align: right;\n",
              "    }\n",
              "</style>\n",
              "<table border=\"1\" class=\"dataframe\">\n",
              "  <thead>\n",
              "    <tr style=\"text-align: right;\">\n",
              "      <th></th>\n",
              "      <th>date</th>\n",
              "      <th>event_timestamp</th>\n",
              "      <th>user_pseudo_id</th>\n",
              "      <th>OS</th>\n",
              "      <th>session_duration</th>\n",
              "    </tr>\n",
              "  </thead>\n",
              "  <tbody>\n",
              "    <tr>\n",
              "      <th>0</th>\n",
              "      <td>2019-12-01</td>\n",
              "      <td>1575208062892000</td>\n",
              "      <td>8ED62920A8794BB78270156546EF2B52</td>\n",
              "      <td>IOS</td>\n",
              "      <td>1372</td>\n",
              "    </tr>\n",
              "    <tr>\n",
              "      <th>1</th>\n",
              "      <td>2019-12-01</td>\n",
              "      <td>1575194635635000</td>\n",
              "      <td>E1D03428BA964B18941DF9506D376861</td>\n",
              "      <td>IOS</td>\n",
              "      <td>559</td>\n",
              "    </tr>\n",
              "    <tr>\n",
              "      <th>4</th>\n",
              "      <td>2019-12-01</td>\n",
              "      <td>1575171234369000</td>\n",
              "      <td>6586AF7B0E914DC09A46E4D5455F055D</td>\n",
              "      <td>IOS</td>\n",
              "      <td>511</td>\n",
              "    </tr>\n",
              "    <tr>\n",
              "      <th>13</th>\n",
              "      <td>2019-12-01</td>\n",
              "      <td>1575181462414001</td>\n",
              "      <td>DADFE3CF76D343CD8ACC76BD398C4212</td>\n",
              "      <td>IOS</td>\n",
              "      <td>209</td>\n",
              "    </tr>\n",
              "    <tr>\n",
              "      <th>14</th>\n",
              "      <td>2019-12-01</td>\n",
              "      <td>1575168623672000</td>\n",
              "      <td>DADFE3CF76D343CD8ACC76BD398C4212</td>\n",
              "      <td>IOS</td>\n",
              "      <td>2105</td>\n",
              "    </tr>\n",
              "    <tr>\n",
              "      <th>...</th>\n",
              "      <td>...</td>\n",
              "      <td>...</td>\n",
              "      <td>...</td>\n",
              "      <td>...</td>\n",
              "      <td>...</td>\n",
              "    </tr>\n",
              "    <tr>\n",
              "      <th>12285</th>\n",
              "      <td>2019-12-31</td>\n",
              "      <td>1577723361002000</td>\n",
              "      <td>BC9B332D06384C459CEFEF3657B0235E</td>\n",
              "      <td>IOS</td>\n",
              "      <td>531</td>\n",
              "    </tr>\n",
              "    <tr>\n",
              "      <th>12286</th>\n",
              "      <td>2019-12-31</td>\n",
              "      <td>1577776573980000</td>\n",
              "      <td>BD182B931CBA4CB9B5C0EE329CF4A1E2</td>\n",
              "      <td>IOS</td>\n",
              "      <td>16</td>\n",
              "    </tr>\n",
              "    <tr>\n",
              "      <th>12287</th>\n",
              "      <td>2019-12-31</td>\n",
              "      <td>1577780025933000</td>\n",
              "      <td>BD182B931CBA4CB9B5C0EE329CF4A1E2</td>\n",
              "      <td>IOS</td>\n",
              "      <td>5</td>\n",
              "    </tr>\n",
              "    <tr>\n",
              "      <th>12294</th>\n",
              "      <td>2019-12-31</td>\n",
              "      <td>1577782156933000</td>\n",
              "      <td>5E14F2A710014F7F8FB55BDEC05E638F</td>\n",
              "      <td>IOS</td>\n",
              "      <td>319</td>\n",
              "    </tr>\n",
              "    <tr>\n",
              "      <th>12295</th>\n",
              "      <td>2019-12-31</td>\n",
              "      <td>1577790132340000</td>\n",
              "      <td>5E14F2A710014F7F8FB55BDEC05E638F</td>\n",
              "      <td>IOS</td>\n",
              "      <td>46</td>\n",
              "    </tr>\n",
              "  </tbody>\n",
              "</table>\n",
              "<p>8372 rows × 5 columns</p>\n",
              "</div>"
            ],
            "text/plain": [
              "            date   event_timestamp  ...   OS session_duration\n",
              "0     2019-12-01  1575208062892000  ...  IOS             1372\n",
              "1     2019-12-01  1575194635635000  ...  IOS              559\n",
              "4     2019-12-01  1575171234369000  ...  IOS              511\n",
              "13    2019-12-01  1575181462414001  ...  IOS              209\n",
              "14    2019-12-01  1575168623672000  ...  IOS             2105\n",
              "...          ...               ...  ...  ...              ...\n",
              "12285 2019-12-31  1577723361002000  ...  IOS              531\n",
              "12286 2019-12-31  1577776573980000  ...  IOS               16\n",
              "12287 2019-12-31  1577780025933000  ...  IOS                5\n",
              "12294 2019-12-31  1577782156933000  ...  IOS              319\n",
              "12295 2019-12-31  1577790132340000  ...  IOS               46\n",
              "\n",
              "[8372 rows x 5 columns]"
            ]
          },
          "metadata": {},
          "execution_count": 55
        }
      ]
    },
    {
      "cell_type": "code",
      "metadata": {
        "id": "TE_VJA9KuAjK",
        "colab": {
          "base_uri": "https://localhost:8080/"
        },
        "outputId": "f4745e3b-e34b-4d53-bddd-55003f6e5456"
      },
      "source": [
        "ios_avg_session_duration = df_ios_users[\"session_duration\"].mean()\n",
        "ios_avg_session_duration"
      ],
      "execution_count": 56,
      "outputs": [
        {
          "output_type": "execute_result",
          "data": {
            "text/plain": [
              "463.239010989011"
            ]
          },
          "metadata": {},
          "execution_count": 56
        }
      ]
    },
    {
      "cell_type": "markdown",
      "metadata": {
        "id": "DpnsBPC-w37e"
      },
      "source": [
        "# Output"
      ]
    },
    {
      "cell_type": "code",
      "metadata": {
        "id": "PRk5Ky9UsSNH",
        "colab": {
          "base_uri": "https://localhost:8080/",
          "height": 97
        },
        "outputId": "ce16b78c-473d-4fd2-e91e-811fb20725f6"
      },
      "source": [
        "df_output = pd.DataFrame(columns=[\"android_first_users_stay_time\",\"ios_first_users_stay_time\",\"all_first_users_stay_time\"],index=[0])\n",
        "df_output.insert(0, \"date\", start.strftime(format=\"%Y-%m-%d\"))\n",
        "df_output[\"date\"] = pd.to_datetime(df_output[\"date\"], format=\"%Y-%m-%d\").dt.date\n",
        "df_output[\"android_first_users_stay_time\"] = android_avg_session_duration\n",
        "df_output[\"ios_first_users_stay_time\"] = ios_avg_session_duration\n",
        "df_output[\"all_first_users_stay_time\"] = all_first_users_stay_time\n",
        "df_output = df_output.round(3)\n",
        "df_output.to_gbq(f\"\"\"{PACKAGE_NAME.replace(\".\",\"_\")}_{METRICS_NAME.replace(\"-\",\"_\")}.{FREQUENCY}_events_{start.strftime(format=\"%Y-%m-%d\").replace(\"-\",\"\")}\"\"\",\n",
        "                 if_exists=\"replace\",\n",
        "                 table_schema=[{'name': 'date','type': 'DATE'},\n",
        "                               {'name': 'android_first_users_stay_time','type': 'FLOAT64'},\n",
        "                               {'name': 'ios_first_users_stay_time','type': 'FLOAT64'},\n",
        "                               {'name': 'all_first_users_stay_time','type': 'FLOAT64'}\n",
        "                               ],\n",
        "                 project_id=OUTPUT_BIGQUERY_PROJECT_ID)\n",
        "df_output"
      ],
      "execution_count": 57,
      "outputs": [
        {
          "output_type": "stream",
          "name": "stderr",
          "text": [
            "1it [00:04,  4.28s/it]\n"
          ]
        },
        {
          "output_type": "execute_result",
          "data": {
            "text/html": [
              "<div>\n",
              "<style scoped>\n",
              "    .dataframe tbody tr th:only-of-type {\n",
              "        vertical-align: middle;\n",
              "    }\n",
              "\n",
              "    .dataframe tbody tr th {\n",
              "        vertical-align: top;\n",
              "    }\n",
              "\n",
              "    .dataframe thead th {\n",
              "        text-align: right;\n",
              "    }\n",
              "</style>\n",
              "<table border=\"1\" class=\"dataframe\">\n",
              "  <thead>\n",
              "    <tr style=\"text-align: right;\">\n",
              "      <th></th>\n",
              "      <th>date</th>\n",
              "      <th>android_first_users_stay_time</th>\n",
              "      <th>ios_first_users_stay_time</th>\n",
              "      <th>all_first_users_stay_time</th>\n",
              "    </tr>\n",
              "  </thead>\n",
              "  <tbody>\n",
              "    <tr>\n",
              "      <th>0</th>\n",
              "      <td>2019-12-01</td>\n",
              "      <td>545.675</td>\n",
              "      <td>463.239</td>\n",
              "      <td>489.547</td>\n",
              "    </tr>\n",
              "  </tbody>\n",
              "</table>\n",
              "</div>"
            ],
            "text/plain": [
              "         date  ...  all_first_users_stay_time\n",
              "0  2019-12-01  ...                    489.547\n",
              "\n",
              "[1 rows x 4 columns]"
            ]
          },
          "metadata": {},
          "execution_count": 57
        }
      ]
    }
  ]
}
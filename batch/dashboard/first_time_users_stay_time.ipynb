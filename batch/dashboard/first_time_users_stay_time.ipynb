{
  "nbformat": 4,
  "nbformat_minor": 0,
  "metadata": {
    "colab": {
      "name": "first_time_users_stay_time.ipynb",
      "provenance": [],
      "collapsed_sections": [
        "pZaXKQMhYI-l",
        "SOYr0O7KciFp",
        "zqsobkTsb85a"
      ],
      "toc_visible": true
    },
    "kernelspec": {
      "name": "python3",
      "display_name": "Python 3"
    }
  },
  "cells": [
    {
      "cell_type": "markdown",
      "metadata": {
        "id": "lDMqDm7Qawvp"
      },
      "source": [
        "#First time users stay time"
      ]
    },
    {
      "cell_type": "markdown",
      "metadata": {
        "id": "w_esit1pVBjD"
      },
      "source": [
        "以下の3通りに分けて初回起動ユーザーの平均起動時間を計算する\n",
        "+ daily\n",
        "+ weekly\n",
        "+ monthly"
      ]
    },
    {
      "cell_type": "markdown",
      "metadata": {
        "id": "qrlfJX8zVEiW"
      },
      "source": [
        "##Input Parameters\n",
        "+ DATE 集計期間の終わりの日\n",
        "+ DEBUG 手動実行時のみTrue\n",
        "+ FREQUENCY 実行頻度\n",
        "+ BIGQUERY_PROJECT_ID bigqueryのプロジェクト名\n",
        "+ BIGQUERY_DATASET bigqueryのデータセット\n",
        "+ PACKAGE_NAME bigqueryのパッケージ名\n",
        "+ OUTPUT_BIGQUERY_PROJECT_ID 出力先のBQのプロジェクト名\n",
        "+ ISLATEST 最新の日付を対象にする場合はTrue,任意の日付を指定する場合はFalse"
      ]
    },
    {
      "cell_type": "markdown",
      "metadata": {
        "id": "VpoODtaRsdlr"
      },
      "source": [
        "# Output Range\n",
        "+ daily\n",
        "DATEの1日前を対象に集計\n",
        " \n",
        "  ex.DATE=\"2021-02-02\"の場合は\"2021-02-01を対象に集計\"\n",
        "+ weekly\n",
        "DATEの1日前から7日を対象に集計\n",
        "\n",
        "  ex.DATE=\"2021-02-22\"の場合は\"2021-02-15\"から\"2021-02-21を対象に集計\"\n",
        "+ monthly\n",
        "DATEの1日前から1ヶ月を対象に集計\n",
        "\n",
        "  ex.DATE=\"2021-02-01\"の場合は\"2021-01-01\"から\"2021-01-31\"を対象に集計\""
      ]
    },
    {
      "cell_type": "markdown",
      "metadata": {
        "id": "CYxnXwgrr1Nd"
      },
      "source": [
        "## Output Data\n",
        "+ date　集計の開始日\n",
        "+ android_first_users_stay_time\tAndroid初回起動ユーザーの平均滞在時間\n",
        "+ ios_first_users_stay_time\tiOS初回起動ユーザーの平均滞在時間\n",
        "+ all_first_users_stay_time 全ユーザーの平均滞在時間\n"
      ]
    },
    {
      "cell_type": "markdown",
      "metadata": {
        "id": "oR0sg6NQbPKM"
      },
      "source": [
        "# Parameters"
      ]
    },
    {
      "cell_type": "code",
      "metadata": {
        "id": "pr8uu2mmQR_g"
      },
      "source": [
        "DATE = \"2021-01-01\" # @param {type: \"date\"}\n",
        "DEBUG = True # @param {type: \"boolean\"} 手動実行時のみTrueにする。Cloud FunctionsからFalseを渡される。\n",
        "FREQUENCY = \"monthly\" # @param {type: \"string\"}\n",
        "BIGQUERY_PROJECT_ID = \"fl-komtar-herbert-offer\" # @param {type: \"string\"}\n",
        "BIGQUERY_DATASET = \"analytics_211559993.events_*\" # @param {type: \"string\"}\n",
        "PACKAGE_NAME = \"jp.co.hardoff.renk.app.offer\" # @param {type: \"string\"}\n",
        "OUTPUT_BIGQUERY_PROJECT_ID = \"fl-komtar-analytics-dashboard\" # @param {type: \"string\"}\n",
        "IS_LATEST = True # @param {type:\"boolean\"}"
      ],
      "execution_count": 1,
      "outputs": []
    },
    {
      "cell_type": "markdown",
      "metadata": {
        "id": "pZaXKQMhYI-l"
      },
      "source": [
        "# Constants"
      ]
    },
    {
      "cell_type": "code",
      "metadata": {
        "id": "ysFoF5_wYIfg"
      },
      "source": [
        "SESSION_TIMEOUT_MINS = 30 #@param {type:\"number\"}\n",
        "METRICS_NAME = \"first-time-users-stay-time\""
      ],
      "execution_count": 2,
      "outputs": []
    },
    {
      "cell_type": "markdown",
      "metadata": {
        "id": "SOYr0O7KciFp"
      },
      "source": [
        "# Version"
      ]
    },
    {
      "cell_type": "code",
      "metadata": {
        "id": "8bL8BqavTjgq"
      },
      "source": [
        "VERSION = \"7\""
      ],
      "execution_count": 3,
      "outputs": []
    },
    {
      "cell_type": "markdown",
      "metadata": {
        "id": "zqsobkTsb85a"
      },
      "source": [
        "# Authorize"
      ]
    },
    {
      "cell_type": "code",
      "metadata": {
        "id": "gS6pC6T8b_0y"
      },
      "source": [
        "if DEBUG:\n",
        "    from google.colab import auth\n",
        "    auth.authenticate_user()"
      ],
      "execution_count": 4,
      "outputs": []
    },
    {
      "cell_type": "markdown",
      "metadata": {
        "id": "Vp6ChD90cK9Z"
      },
      "source": [
        "# Imports"
      ]
    },
    {
      "cell_type": "code",
      "metadata": {
        "id": "4LHqo4ZPu0rD"
      },
      "source": [
        "import pandas as pd\n",
        "import numpy as np\n",
        "from datetime import timedelta,datetime\n",
        "from pytz import timezone"
      ],
      "execution_count": 5,
      "outputs": []
    },
    {
      "cell_type": "markdown",
      "metadata": {
        "id": "Ur-9kcEycQ5a"
      },
      "source": [
        "# Get Input Datasets"
      ]
    },
    {
      "cell_type": "markdown",
      "metadata": {
        "id": "_WOkUJpzaah0"
      },
      "source": [
        "## データの取得期間"
      ]
    },
    {
      "cell_type": "code",
      "metadata": {
        "id": "_vD485eEGvBe",
        "colab": {
          "base_uri": "https://localhost:8080/"
        },
        "outputId": "2d409845-2079-42d9-a182-c388d78cc92a"
      },
      "source": [
        "if IS_LATEST:\n",
        "  date = (datetime.now(timezone(\"Asia/Tokyo\"))-timedelta(days=1))\n",
        "else:\n",
        "  date = datetime.strptime(DATE,\"%Y-%m-%d\") - timedelta(days=1)\n",
        "\n",
        "if FREQUENCY == \"daily\":\n",
        "  start = date\n",
        "  end = date\n",
        "elif FREQUENCY ==\"weekly\":\n",
        "  start = date-timedelta(days=6)\n",
        "  end = date \n",
        "elif FREQUENCY == \"monthly\":\n",
        "  end = date\n",
        "  start = datetime(end.year,end.month,1)\n",
        "else:\n",
        "  raise Exception(\"Invalid frequency value\")\n",
        "start = start-timedelta(days=1)\n",
        "end = end+timedelta(days=1)\n",
        "start_date = start.strftime(\"%Y%m%d\")\n",
        "end_date = end.strftime(\"%Y%m%d\")\n",
        "start_date, end_date"
      ],
      "execution_count": 6,
      "outputs": [
        {
          "output_type": "execute_result",
          "data": {
            "text/plain": [
              "('20210831', '20210909')"
            ]
          },
          "metadata": {},
          "execution_count": 6
        }
      ]
    },
    {
      "cell_type": "markdown",
      "metadata": {
        "id": "CzoDHx8daea6"
      },
      "source": [
        "## GBQからデータを取得する"
      ]
    },
    {
      "cell_type": "code",
      "metadata": {
        "id": "KLL50D69IsFG",
        "colab": {
          "base_uri": "https://localhost:8080/",
          "height": 609
        },
        "outputId": "fb6432d1-35dd-4a8e-9ab2-1163db60144b"
      },
      "source": [
        "duration_func = \"\"\"\n",
        "var current = arr[0];\n",
        "var result = [];\n",
        "for (var i = 0; i < arr.length - 1; i ++) {\n",
        "  var diff = arr[i + 1] - arr[i];\n",
        "  if ((diff / 1000000) >= 1800) {\n",
        "    result.push({\n",
        "      event_timestamp: current,\n",
        "      duration: (arr[i] - current) / 1000000,\n",
        "    });\n",
        "    current = arr[i + 1];       \n",
        "  }\n",
        "}\n",
        "result.push({\n",
        "  event_timestamp: current,\n",
        "  duration: (arr[arr.length - 1] - current) / 1000000,\n",
        "});\n",
        "result = result.filter((r) => r.duration > 0)\n",
        "return result;\n",
        "\"\"\"\n",
        "df_session_duration = pd.DataFrame(columns = ['date', 'Time', 'user_pseudo_id', 'user_first_touch_timestamp','First_touch_Time', 'OS', 'event_timestamp', 'duration'])\n",
        "\n",
        "query = f\"\"\"\n",
        "  CREATE TEMP FUNCTION\n",
        "  DURATION(arr ARRAY<INT64>)\n",
        "  RETURNS ARRAY<STRUCT<event_timestamp INT64,\n",
        "  duration INT64>>\n",
        "  LANGUAGE js AS '''\n",
        "  {duration_func}\n",
        "  '''; \n",
        "  WITH\n",
        "      event_arr AS (\n",
        "        SELECT\n",
        "        FORMAT_TIMESTAMP(\"%Y%m%d\", TIMESTAMP_MICROS(event_timestamp), 'Asia/Tokyo') AS date,\n",
        "        user_pseudo_id,\n",
        "        UPPER(platform)　as OS,\n",
        "        user_first_touch_timestamp,\n",
        "        DURATION(ARRAY_AGG(event_timestamp ORDER BY event_timestamp)) AS duration_arr\n",
        "    FROM (\n",
        "    SELECT * FROM `{BIGQUERY_DATASET}` \n",
        "    WHERE _table_suffix BETWEEN \"{start_date}\" AND \"{end_date}\"\n",
        "    UNION ALL\n",
        "    SELECT * FROM `{BIGQUERY_DATASET}` \n",
        "    WHERE _table_suffix BETWEEN \"{start_date}\" AND \"{end_date}\" AND app_info.id like \"{PACKAGE_NAME}%\"\n",
        "    )\n",
        "  GROUP BY\n",
        "    date,\n",
        "    user_pseudo_id,\n",
        "    user_first_touch_timestamp,\n",
        "    OS ),\n",
        "  events AS (\n",
        "    SELECT\n",
        "      date,\n",
        "      TIMESTAMP_MICROS(event_timestamp) AS Time,\n",
        "      user_pseudo_id,\n",
        "      user_first_touch_timestamp,\n",
        "      TIMESTAMP_MICROS(user_first_touch_timestamp) AS First_touch_Time,\n",
        "      OS,\n",
        "      darr.event_timestamp,\n",
        "      darr.duration\n",
        "    FROM\n",
        "      event_arr\n",
        "    CROSS JOIN UNNEST(event_arr.duration_arr) AS darr\n",
        "    WHERE date BETWEEN \"{start_date}\" AND \"{end_date}\"\n",
        "  )\n",
        "  SELECT *\n",
        "  FROM\n",
        "  events\n",
        "  ORDER BY user_pseudo_id \n",
        "\"\"\"\n",
        "df_gbq = pd.io.gbq.read_gbq(query, project_id = BIGQUERY_PROJECT_ID)\n",
        "df_session_duration = pd.concat([df_session_duration, df_gbq])\n",
        "\n",
        "df_session_duration = df_session_duration[(df_session_duration[\"date\"] >= start_date) & (df_session_duration[\"date\"] <= end_date)]\n",
        "df_session_duration"
      ],
      "execution_count": 7,
      "outputs": [
        {
          "output_type": "execute_result",
          "data": {
            "text/html": [
              "<div>\n",
              "<style scoped>\n",
              "    .dataframe tbody tr th:only-of-type {\n",
              "        vertical-align: middle;\n",
              "    }\n",
              "\n",
              "    .dataframe tbody tr th {\n",
              "        vertical-align: top;\n",
              "    }\n",
              "\n",
              "    .dataframe thead th {\n",
              "        text-align: right;\n",
              "    }\n",
              "</style>\n",
              "<table border=\"1\" class=\"dataframe\">\n",
              "  <thead>\n",
              "    <tr style=\"text-align: right;\">\n",
              "      <th></th>\n",
              "      <th>date</th>\n",
              "      <th>Time</th>\n",
              "      <th>user_pseudo_id</th>\n",
              "      <th>user_first_touch_timestamp</th>\n",
              "      <th>First_touch_Time</th>\n",
              "      <th>OS</th>\n",
              "      <th>event_timestamp</th>\n",
              "      <th>duration</th>\n",
              "    </tr>\n",
              "  </thead>\n",
              "  <tbody>\n",
              "    <tr>\n",
              "      <th>0</th>\n",
              "      <td>20210901</td>\n",
              "      <td>2021-09-01 00:36:31.047000+00:00</td>\n",
              "      <td>000032b023cc46f658adb26edfc8a8c4</td>\n",
              "      <td>1599364212075000</td>\n",
              "      <td>2020-09-06 03:50:12.075000+00:00</td>\n",
              "      <td>ANDROID</td>\n",
              "      <td>1630456591047000</td>\n",
              "      <td>154</td>\n",
              "    </tr>\n",
              "    <tr>\n",
              "      <th>1</th>\n",
              "      <td>20210831</td>\n",
              "      <td>2021-08-31 02:27:30.335000+00:00</td>\n",
              "      <td>0001f154b6757877eb2107871365054a</td>\n",
              "      <td>1623117832849000</td>\n",
              "      <td>2021-06-08 02:03:52.849000+00:00</td>\n",
              "      <td>ANDROID</td>\n",
              "      <td>1630376850335000</td>\n",
              "      <td>2</td>\n",
              "    </tr>\n",
              "    <tr>\n",
              "      <th>2</th>\n",
              "      <td>20210908</td>\n",
              "      <td>2021-09-07 23:23:00.095000+00:00</td>\n",
              "      <td>0001f154b6757877eb2107871365054a</td>\n",
              "      <td>1623117832849000</td>\n",
              "      <td>2021-06-08 02:03:52.849000+00:00</td>\n",
              "      <td>ANDROID</td>\n",
              "      <td>1631056980095000</td>\n",
              "      <td>29</td>\n",
              "    </tr>\n",
              "    <tr>\n",
              "      <th>3</th>\n",
              "      <td>20210908</td>\n",
              "      <td>2021-09-08 01:11:22.755000+00:00</td>\n",
              "      <td>0001f154b6757877eb2107871365054a</td>\n",
              "      <td>1623117832849000</td>\n",
              "      <td>2021-06-08 02:03:52.849000+00:00</td>\n",
              "      <td>ANDROID</td>\n",
              "      <td>1631063482755000</td>\n",
              "      <td>788</td>\n",
              "    </tr>\n",
              "    <tr>\n",
              "      <th>4</th>\n",
              "      <td>20210908</td>\n",
              "      <td>2021-09-08 02:13:54.613000+00:00</td>\n",
              "      <td>0001f154b6757877eb2107871365054a</td>\n",
              "      <td>1623117832849000</td>\n",
              "      <td>2021-06-08 02:03:52.849000+00:00</td>\n",
              "      <td>ANDROID</td>\n",
              "      <td>1631067234613000</td>\n",
              "      <td>1</td>\n",
              "    </tr>\n",
              "    <tr>\n",
              "      <th>...</th>\n",
              "      <td>...</td>\n",
              "      <td>...</td>\n",
              "      <td>...</td>\n",
              "      <td>...</td>\n",
              "      <td>...</td>\n",
              "      <td>...</td>\n",
              "      <td>...</td>\n",
              "      <td>...</td>\n",
              "    </tr>\n",
              "    <tr>\n",
              "      <th>302496</th>\n",
              "      <td>20210902</td>\n",
              "      <td>2021-09-02 09:02:24.778000+00:00</td>\n",
              "      <td>fffef530cbd8c9d736eacfd1962937f0</td>\n",
              "      <td>1612065916072000</td>\n",
              "      <td>2021-01-31 04:05:16.072000+00:00</td>\n",
              "      <td>ANDROID</td>\n",
              "      <td>1630573344778000</td>\n",
              "      <td>21</td>\n",
              "    </tr>\n",
              "    <tr>\n",
              "      <th>302497</th>\n",
              "      <td>20210906</td>\n",
              "      <td>2021-09-06 08:48:43.597000+00:00</td>\n",
              "      <td>fffef530cbd8c9d736eacfd1962937f0</td>\n",
              "      <td>1612065916072000</td>\n",
              "      <td>2021-01-31 04:05:16.072000+00:00</td>\n",
              "      <td>ANDROID</td>\n",
              "      <td>1630918123597000</td>\n",
              "      <td>17</td>\n",
              "    </tr>\n",
              "    <tr>\n",
              "      <th>302498</th>\n",
              "      <td>20210908</td>\n",
              "      <td>2021-09-08 02:41:18.993000+00:00</td>\n",
              "      <td>fffef530cbd8c9d736eacfd1962937f0</td>\n",
              "      <td>1612065916072000</td>\n",
              "      <td>2021-01-31 04:05:16.072000+00:00</td>\n",
              "      <td>ANDROID</td>\n",
              "      <td>1631068878993000</td>\n",
              "      <td>10</td>\n",
              "    </tr>\n",
              "    <tr>\n",
              "      <th>302499</th>\n",
              "      <td>20210908</td>\n",
              "      <td>2021-09-08 10:14:04.777002+00:00</td>\n",
              "      <td>fffef530cbd8c9d736eacfd1962937f0</td>\n",
              "      <td>1612065916072000</td>\n",
              "      <td>2021-01-31 04:05:16.072000+00:00</td>\n",
              "      <td>ANDROID</td>\n",
              "      <td>1631096044777002</td>\n",
              "      <td>319</td>\n",
              "    </tr>\n",
              "    <tr>\n",
              "      <th>302500</th>\n",
              "      <td>20210908</td>\n",
              "      <td>2021-09-08 11:10:24.507000+00:00</td>\n",
              "      <td>fffef530cbd8c9d736eacfd1962937f0</td>\n",
              "      <td>1612065916072000</td>\n",
              "      <td>2021-01-31 04:05:16.072000+00:00</td>\n",
              "      <td>ANDROID</td>\n",
              "      <td>1631099424507000</td>\n",
              "      <td>4</td>\n",
              "    </tr>\n",
              "  </tbody>\n",
              "</table>\n",
              "<p>302501 rows × 8 columns</p>\n",
              "</div>"
            ],
            "text/plain": [
              "            date                             Time  ...   event_timestamp duration\n",
              "0       20210901 2021-09-01 00:36:31.047000+00:00  ...  1630456591047000      154\n",
              "1       20210831 2021-08-31 02:27:30.335000+00:00  ...  1630376850335000        2\n",
              "2       20210908 2021-09-07 23:23:00.095000+00:00  ...  1631056980095000       29\n",
              "3       20210908 2021-09-08 01:11:22.755000+00:00  ...  1631063482755000      788\n",
              "4       20210908 2021-09-08 02:13:54.613000+00:00  ...  1631067234613000        1\n",
              "...          ...                              ...  ...               ...      ...\n",
              "302496  20210902 2021-09-02 09:02:24.778000+00:00  ...  1630573344778000       21\n",
              "302497  20210906 2021-09-06 08:48:43.597000+00:00  ...  1630918123597000       17\n",
              "302498  20210908 2021-09-08 02:41:18.993000+00:00  ...  1631068878993000       10\n",
              "302499  20210908 2021-09-08 10:14:04.777002+00:00  ...  1631096044777002      319\n",
              "302500  20210908 2021-09-08 11:10:24.507000+00:00  ...  1631099424507000        4\n",
              "\n",
              "[302501 rows x 8 columns]"
            ]
          },
          "metadata": {},
          "execution_count": 7
        }
      ]
    },
    {
      "cell_type": "markdown",
      "metadata": {
        "id": "AaNMM_kealMr"
      },
      "source": [
        "## 期間内の初回起動者を取得"
      ]
    },
    {
      "cell_type": "code",
      "metadata": {
        "id": "JagAc6sZx0c3"
      },
      "source": [
        "unique_first_users = df_session_duration[df_session_duration[\"Time\"]==df_session_duration[\"First_touch_Time\"]][\"user_pseudo_id\"].unique()"
      ],
      "execution_count": 8,
      "outputs": []
    },
    {
      "cell_type": "markdown",
      "metadata": {
        "id": "w8rL-Edmaw-j"
      },
      "source": [
        "## 期間内のユニークなユーザーの行取得"
      ]
    },
    {
      "cell_type": "code",
      "metadata": {
        "id": "k7v6RcouslZy",
        "colab": {
          "base_uri": "https://localhost:8080/",
          "height": 609
        },
        "outputId": "98bfcbc6-e98d-41c6-ef89-b6248b93983a"
      },
      "source": [
        "df_first_users_duration = df_session_duration[df_session_duration[\"user_pseudo_id\"].isin(unique_first_users)]\n",
        "df_first_users_duration"
      ],
      "execution_count": 9,
      "outputs": [
        {
          "output_type": "execute_result",
          "data": {
            "text/html": [
              "<div>\n",
              "<style scoped>\n",
              "    .dataframe tbody tr th:only-of-type {\n",
              "        vertical-align: middle;\n",
              "    }\n",
              "\n",
              "    .dataframe tbody tr th {\n",
              "        vertical-align: top;\n",
              "    }\n",
              "\n",
              "    .dataframe thead th {\n",
              "        text-align: right;\n",
              "    }\n",
              "</style>\n",
              "<table border=\"1\" class=\"dataframe\">\n",
              "  <thead>\n",
              "    <tr style=\"text-align: right;\">\n",
              "      <th></th>\n",
              "      <th>date</th>\n",
              "      <th>Time</th>\n",
              "      <th>user_pseudo_id</th>\n",
              "      <th>user_first_touch_timestamp</th>\n",
              "      <th>First_touch_Time</th>\n",
              "      <th>OS</th>\n",
              "      <th>event_timestamp</th>\n",
              "      <th>duration</th>\n",
              "    </tr>\n",
              "  </thead>\n",
              "  <tbody>\n",
              "    <tr>\n",
              "      <th>14</th>\n",
              "      <td>20210904</td>\n",
              "      <td>2021-09-04 11:08:09.465000+00:00</td>\n",
              "      <td>000579B0FB424A478FC3FC2B5035FC08</td>\n",
              "      <td>1630753689465000</td>\n",
              "      <td>2021-09-04 11:08:09.465000+00:00</td>\n",
              "      <td>IOS</td>\n",
              "      <td>1630753689465000</td>\n",
              "      <td>315</td>\n",
              "    </tr>\n",
              "    <tr>\n",
              "      <th>20</th>\n",
              "      <td>20210903</td>\n",
              "      <td>2021-09-03 03:02:12.308000+00:00</td>\n",
              "      <td>0007EF69E7A9463FAA45AC6B03FC1F79</td>\n",
              "      <td>1630638132308000</td>\n",
              "      <td>2021-09-03 03:02:12.308000+00:00</td>\n",
              "      <td>IOS</td>\n",
              "      <td>1630638132308000</td>\n",
              "      <td>95</td>\n",
              "    </tr>\n",
              "    <tr>\n",
              "      <th>21</th>\n",
              "      <td>20210903</td>\n",
              "      <td>2021-09-03 08:00:07.251000+00:00</td>\n",
              "      <td>0007EF69E7A9463FAA45AC6B03FC1F79</td>\n",
              "      <td>1630638132308000</td>\n",
              "      <td>2021-09-03 03:02:12.308000+00:00</td>\n",
              "      <td>IOS</td>\n",
              "      <td>1630656007251000</td>\n",
              "      <td>245</td>\n",
              "    </tr>\n",
              "    <tr>\n",
              "      <th>93</th>\n",
              "      <td>20210904</td>\n",
              "      <td>2021-09-04 06:16:29.315000+00:00</td>\n",
              "      <td>000b0c8ef4880b4d161c61f1ab78d6bb</td>\n",
              "      <td>1630736189315000</td>\n",
              "      <td>2021-09-04 06:16:29.315000+00:00</td>\n",
              "      <td>ANDROID</td>\n",
              "      <td>1630736189315000</td>\n",
              "      <td>749</td>\n",
              "    </tr>\n",
              "    <tr>\n",
              "      <th>186</th>\n",
              "      <td>20210907</td>\n",
              "      <td>2021-09-07 04:52:34.346000+00:00</td>\n",
              "      <td>00144A43A6A543F5B544DA78883C2A15</td>\n",
              "      <td>1630811736753000</td>\n",
              "      <td>2021-09-05 03:15:36.753000+00:00</td>\n",
              "      <td>IOS</td>\n",
              "      <td>1630990354346000</td>\n",
              "      <td>49</td>\n",
              "    </tr>\n",
              "    <tr>\n",
              "      <th>...</th>\n",
              "      <td>...</td>\n",
              "      <td>...</td>\n",
              "      <td>...</td>\n",
              "      <td>...</td>\n",
              "      <td>...</td>\n",
              "      <td>...</td>\n",
              "      <td>...</td>\n",
              "      <td>...</td>\n",
              "    </tr>\n",
              "    <tr>\n",
              "      <th>302044</th>\n",
              "      <td>20210904</td>\n",
              "      <td>2021-09-04 14:03:11.204000+00:00</td>\n",
              "      <td>ff34f4e94de7e23c24fd9035f4537089</td>\n",
              "      <td>1630764191204000</td>\n",
              "      <td>2021-09-04 14:03:11.204000+00:00</td>\n",
              "      <td>ANDROID</td>\n",
              "      <td>1630764191204000</td>\n",
              "      <td>52</td>\n",
              "    </tr>\n",
              "    <tr>\n",
              "      <th>302210</th>\n",
              "      <td>20210906</td>\n",
              "      <td>2021-09-06 06:43:58.571000+00:00</td>\n",
              "      <td>ff94bb995999187f8ec6862b135de476</td>\n",
              "      <td>1630910638571000</td>\n",
              "      <td>2021-09-06 06:43:58.571000+00:00</td>\n",
              "      <td>ANDROID</td>\n",
              "      <td>1630910638571000</td>\n",
              "      <td>74</td>\n",
              "    </tr>\n",
              "    <tr>\n",
              "      <th>302314</th>\n",
              "      <td>20210907</td>\n",
              "      <td>2021-09-07 04:53:50.191000+00:00</td>\n",
              "      <td>ffab2a18275414b46ae502eaec99380d</td>\n",
              "      <td>1630990430191000</td>\n",
              "      <td>2021-09-07 04:53:50.191000+00:00</td>\n",
              "      <td>ANDROID</td>\n",
              "      <td>1630990430191000</td>\n",
              "      <td>205</td>\n",
              "    </tr>\n",
              "    <tr>\n",
              "      <th>302350</th>\n",
              "      <td>20210905</td>\n",
              "      <td>2021-09-05 01:24:24.940000+00:00</td>\n",
              "      <td>ffc38073bc0bb18fbe7e16de71b3db89</td>\n",
              "      <td>1630756183616000</td>\n",
              "      <td>2021-09-04 11:49:43.616000+00:00</td>\n",
              "      <td>ANDROID</td>\n",
              "      <td>1630805064940000</td>\n",
              "      <td>1796</td>\n",
              "    </tr>\n",
              "    <tr>\n",
              "      <th>302351</th>\n",
              "      <td>20210904</td>\n",
              "      <td>2021-09-04 11:49:43.616000+00:00</td>\n",
              "      <td>ffc38073bc0bb18fbe7e16de71b3db89</td>\n",
              "      <td>1630756183616000</td>\n",
              "      <td>2021-09-04 11:49:43.616000+00:00</td>\n",
              "      <td>ANDROID</td>\n",
              "      <td>1630756183616000</td>\n",
              "      <td>719</td>\n",
              "    </tr>\n",
              "  </tbody>\n",
              "</table>\n",
              "<p>18067 rows × 8 columns</p>\n",
              "</div>"
            ],
            "text/plain": [
              "            date                             Time  ...   event_timestamp duration\n",
              "14      20210904 2021-09-04 11:08:09.465000+00:00  ...  1630753689465000      315\n",
              "20      20210903 2021-09-03 03:02:12.308000+00:00  ...  1630638132308000       95\n",
              "21      20210903 2021-09-03 08:00:07.251000+00:00  ...  1630656007251000      245\n",
              "93      20210904 2021-09-04 06:16:29.315000+00:00  ...  1630736189315000      749\n",
              "186     20210907 2021-09-07 04:52:34.346000+00:00  ...  1630990354346000       49\n",
              "...          ...                              ...  ...               ...      ...\n",
              "302044  20210904 2021-09-04 14:03:11.204000+00:00  ...  1630764191204000       52\n",
              "302210  20210906 2021-09-06 06:43:58.571000+00:00  ...  1630910638571000       74\n",
              "302314  20210907 2021-09-07 04:53:50.191000+00:00  ...  1630990430191000      205\n",
              "302350  20210905 2021-09-05 01:24:24.940000+00:00  ...  1630805064940000     1796\n",
              "302351  20210904 2021-09-04 11:49:43.616000+00:00  ...  1630756183616000      719\n",
              "\n",
              "[18067 rows x 8 columns]"
            ]
          },
          "metadata": {},
          "execution_count": 9
        }
      ]
    },
    {
      "cell_type": "markdown",
      "metadata": {
        "id": "ZgqiLfPktoEb"
      },
      "source": [
        "# All Device Duration"
      ]
    },
    {
      "cell_type": "code",
      "metadata": {
        "id": "tqriq--ya6MF",
        "colab": {
          "base_uri": "https://localhost:8080/"
        },
        "outputId": "c346a8c3-6ff6-4c77-969c-076685014ca3"
      },
      "source": [
        "session_timeout = pd.Timedelta('%d min' % SESSION_TIMEOUT_MINS).total_seconds()\n",
        "session_timeout"
      ],
      "execution_count": 10,
      "outputs": [
        {
          "output_type": "execute_result",
          "data": {
            "text/plain": [
              "1800.0"
            ]
          },
          "metadata": {},
          "execution_count": 10
        }
      ]
    },
    {
      "cell_type": "code",
      "metadata": {
        "id": "fNmiWye_OISk",
        "colab": {
          "base_uri": "https://localhost:8080/",
          "height": 419
        },
        "outputId": "a7467f4c-75ab-496e-aa25-81fa9f0bb8e7"
      },
      "source": [
        "session_duration_list = []\n",
        "# ユーザ毎に滞在時間を求める。\n",
        "for g_user_id, df_g_user in df_first_users_duration.groupby([\"user_pseudo_id\",\"OS\"]):\n",
        "  previous_row = None\n",
        "  session_duration = pd.Timedelta('0 min')\n",
        "# 各ユーザのイベントを1つ1つ確認する。\n",
        "  for row in df_g_user.itertuples():\n",
        "    # 一番初めのイベントの値を保存する。\n",
        "    if previous_row is None:\n",
        "      previous_row = row\n",
        "      session_duration = pd.Timedelta(seconds = previous_row.duration)\n",
        "      continue\n",
        "    # 前後のイベント間隔が30分以上ひらいた時、滞在時間を求める。\n",
        "    diff_session = datetime.fromtimestamp(row.event_timestamp/1000000)-datetime.fromtimestamp(previous_row.event_timestamp/1000000) #追加\n",
        "    diff_session = diff_session.total_seconds() #追加\n",
        "    if diff_session > session_timeout:\n",
        "      session_duration_list.append({\n",
        "          \"date\": previous_row.date, \n",
        "          \"event_timestamp\": previous_row.event_timestamp,\n",
        "          \"user_pseudo_id\": g_user_id[0],\n",
        "          \"OS\" : g_user_id[1], \n",
        "          \"session_duration\": session_duration,\n",
        "      })\n",
        "      session_duration = pd.Timedelta(seconds = row.duration)\n",
        "    else:\n",
        "        # 30分以下の場合は同じセッションに該当するとみなす。\n",
        "      session_duration += pd.Timedelta(seconds = row.duration)\n",
        "    previous_row = row\n",
        "    # 一番最後のイベントを計測する。\n",
        "  session_duration = pd.Timedelta(seconds = row.duration)\n",
        "  session_duration_list.append({\n",
        "      \"date\" : previous_row.date, \n",
        "      \"event_timestamp\": previous_row.event_timestamp,\n",
        "      \"user_pseudo_id\" : g_user_id[0],\n",
        "      \"OS\" : g_user_id[1], \n",
        "      \"session_duration\": session_duration,\n",
        "  })\n",
        "df_session_duration_list = pd.DataFrame(session_duration_list)\n",
        "df_session_duration_list = df_session_duration_list.sort_values(\"date\").reset_index(drop=True)\n",
        "df_session_duration_list[\"session_duration\"] = (df_session_duration_list.session_duration.astype(np.int64) / 1000000000).astype(\"int64\")\n",
        "df_session_duration_list.sort_values(\"user_pseudo_id\")"
      ],
      "execution_count": 11,
      "outputs": [
        {
          "output_type": "execute_result",
          "data": {
            "text/html": [
              "<div>\n",
              "<style scoped>\n",
              "    .dataframe tbody tr th:only-of-type {\n",
              "        vertical-align: middle;\n",
              "    }\n",
              "\n",
              "    .dataframe tbody tr th {\n",
              "        vertical-align: top;\n",
              "    }\n",
              "\n",
              "    .dataframe thead th {\n",
              "        text-align: right;\n",
              "    }\n",
              "</style>\n",
              "<table border=\"1\" class=\"dataframe\">\n",
              "  <thead>\n",
              "    <tr style=\"text-align: right;\">\n",
              "      <th></th>\n",
              "      <th>date</th>\n",
              "      <th>event_timestamp</th>\n",
              "      <th>user_pseudo_id</th>\n",
              "      <th>OS</th>\n",
              "      <th>session_duration</th>\n",
              "    </tr>\n",
              "  </thead>\n",
              "  <tbody>\n",
              "    <tr>\n",
              "      <th>6527</th>\n",
              "      <td>20210904</td>\n",
              "      <td>1630753689465000</td>\n",
              "      <td>000579B0FB424A478FC3FC2B5035FC08</td>\n",
              "      <td>IOS</td>\n",
              "      <td>315</td>\n",
              "    </tr>\n",
              "    <tr>\n",
              "      <th>4188</th>\n",
              "      <td>20210903</td>\n",
              "      <td>1630638132308000</td>\n",
              "      <td>0007EF69E7A9463FAA45AC6B03FC1F79</td>\n",
              "      <td>IOS</td>\n",
              "      <td>95</td>\n",
              "    </tr>\n",
              "    <tr>\n",
              "      <th>4178</th>\n",
              "      <td>20210903</td>\n",
              "      <td>1630656007251000</td>\n",
              "      <td>0007EF69E7A9463FAA45AC6B03FC1F79</td>\n",
              "      <td>IOS</td>\n",
              "      <td>245</td>\n",
              "    </tr>\n",
              "    <tr>\n",
              "      <th>7406</th>\n",
              "      <td>20210904</td>\n",
              "      <td>1630736189315000</td>\n",
              "      <td>000b0c8ef4880b4d161c61f1ab78d6bb</td>\n",
              "      <td>ANDROID</td>\n",
              "      <td>749</td>\n",
              "    </tr>\n",
              "    <tr>\n",
              "      <th>8633</th>\n",
              "      <td>20210905</td>\n",
              "      <td>1630811736753000</td>\n",
              "      <td>00144A43A6A543F5B544DA78883C2A15</td>\n",
              "      <td>IOS</td>\n",
              "      <td>237</td>\n",
              "    </tr>\n",
              "    <tr>\n",
              "      <th>...</th>\n",
              "      <td>...</td>\n",
              "      <td>...</td>\n",
              "      <td>...</td>\n",
              "      <td>...</td>\n",
              "      <td>...</td>\n",
              "    </tr>\n",
              "    <tr>\n",
              "      <th>8632</th>\n",
              "      <td>20210905</td>\n",
              "      <td>1630826501666000</td>\n",
              "      <td>ff201caeaaecd8afcefbd2d9a97803a9</td>\n",
              "      <td>ANDROID</td>\n",
              "      <td>2164</td>\n",
              "    </tr>\n",
              "    <tr>\n",
              "      <th>5195</th>\n",
              "      <td>20210904</td>\n",
              "      <td>1630764191204000</td>\n",
              "      <td>ff34f4e94de7e23c24fd9035f4537089</td>\n",
              "      <td>ANDROID</td>\n",
              "      <td>52</td>\n",
              "    </tr>\n",
              "    <tr>\n",
              "      <th>11715</th>\n",
              "      <td>20210906</td>\n",
              "      <td>1630910638571000</td>\n",
              "      <td>ff94bb995999187f8ec6862b135de476</td>\n",
              "      <td>ANDROID</td>\n",
              "      <td>74</td>\n",
              "    </tr>\n",
              "    <tr>\n",
              "      <th>14235</th>\n",
              "      <td>20210907</td>\n",
              "      <td>1630990430191000</td>\n",
              "      <td>ffab2a18275414b46ae502eaec99380d</td>\n",
              "      <td>ANDROID</td>\n",
              "      <td>205</td>\n",
              "    </tr>\n",
              "    <tr>\n",
              "      <th>6528</th>\n",
              "      <td>20210904</td>\n",
              "      <td>1630756183616000</td>\n",
              "      <td>ffc38073bc0bb18fbe7e16de71b3db89</td>\n",
              "      <td>ANDROID</td>\n",
              "      <td>719</td>\n",
              "    </tr>\n",
              "  </tbody>\n",
              "</table>\n",
              "<p>16205 rows × 5 columns</p>\n",
              "</div>"
            ],
            "text/plain": [
              "           date   event_timestamp  ...       OS session_duration\n",
              "6527   20210904  1630753689465000  ...      IOS              315\n",
              "4188   20210903  1630638132308000  ...      IOS               95\n",
              "4178   20210903  1630656007251000  ...      IOS              245\n",
              "7406   20210904  1630736189315000  ...  ANDROID              749\n",
              "8633   20210905  1630811736753000  ...      IOS              237\n",
              "...         ...               ...  ...      ...              ...\n",
              "8632   20210905  1630826501666000  ...  ANDROID             2164\n",
              "5195   20210904  1630764191204000  ...  ANDROID               52\n",
              "11715  20210906  1630910638571000  ...  ANDROID               74\n",
              "14235  20210907  1630990430191000  ...  ANDROID              205\n",
              "6528   20210904  1630756183616000  ...  ANDROID              719\n",
              "\n",
              "[16205 rows x 5 columns]"
            ]
          },
          "metadata": {},
          "execution_count": 11
        }
      ]
    },
    {
      "cell_type": "code",
      "metadata": {
        "id": "XtcNRr4Ya-4c",
        "colab": {
          "base_uri": "https://localhost:8080/"
        },
        "outputId": "367ba4c1-8af0-40ff-cf76-3f7895ab6e3c"
      },
      "source": [
        "all_first_users_stay_time = df_session_duration_list[\"session_duration\"].mean()\n",
        "all_first_users_stay_time"
      ],
      "execution_count": 12,
      "outputs": [
        {
          "output_type": "execute_result",
          "data": {
            "text/plain": [
              "518.319160752854"
            ]
          },
          "metadata": {},
          "execution_count": 12
        }
      ]
    },
    {
      "cell_type": "markdown",
      "metadata": {
        "id": "6feyEDGutvDy"
      },
      "source": [
        "# Android"
      ]
    },
    {
      "cell_type": "code",
      "metadata": {
        "id": "7rvbANAMtzST",
        "colab": {
          "base_uri": "https://localhost:8080/",
          "height": 419
        },
        "outputId": "cd87bce6-ec80-40aa-bdfd-61cf7b7e5b45"
      },
      "source": [
        "df_android_users = df_session_duration_list[df_session_duration_list[\"OS\"]==\"ANDROID\"]\n",
        "df_android_users"
      ],
      "execution_count": 13,
      "outputs": [
        {
          "output_type": "execute_result",
          "data": {
            "text/html": [
              "<div>\n",
              "<style scoped>\n",
              "    .dataframe tbody tr th:only-of-type {\n",
              "        vertical-align: middle;\n",
              "    }\n",
              "\n",
              "    .dataframe tbody tr th {\n",
              "        vertical-align: top;\n",
              "    }\n",
              "\n",
              "    .dataframe thead th {\n",
              "        text-align: right;\n",
              "    }\n",
              "</style>\n",
              "<table border=\"1\" class=\"dataframe\">\n",
              "  <thead>\n",
              "    <tr style=\"text-align: right;\">\n",
              "      <th></th>\n",
              "      <th>date</th>\n",
              "      <th>event_timestamp</th>\n",
              "      <th>user_pseudo_id</th>\n",
              "      <th>OS</th>\n",
              "      <th>session_duration</th>\n",
              "    </tr>\n",
              "  </thead>\n",
              "  <tbody>\n",
              "    <tr>\n",
              "      <th>3</th>\n",
              "      <td>20210831</td>\n",
              "      <td>1630412544030000</td>\n",
              "      <td>d41c6f85b51b4a19a710de20ffbd42ec</td>\n",
              "      <td>ANDROID</td>\n",
              "      <td>3211</td>\n",
              "    </tr>\n",
              "    <tr>\n",
              "      <th>4</th>\n",
              "      <td>20210831</td>\n",
              "      <td>1630398286325002</td>\n",
              "      <td>d41c6f85b51b4a19a710de20ffbd42ec</td>\n",
              "      <td>ANDROID</td>\n",
              "      <td>1010</td>\n",
              "    </tr>\n",
              "    <tr>\n",
              "      <th>5</th>\n",
              "      <td>20210831</td>\n",
              "      <td>1630394845310000</td>\n",
              "      <td>d41c6f85b51b4a19a710de20ffbd42ec</td>\n",
              "      <td>ANDROID</td>\n",
              "      <td>39</td>\n",
              "    </tr>\n",
              "    <tr>\n",
              "      <th>7</th>\n",
              "      <td>20210831</td>\n",
              "      <td>1630403261222000</td>\n",
              "      <td>129d9b4344152d8c1a8351865d33f588</td>\n",
              "      <td>ANDROID</td>\n",
              "      <td>141</td>\n",
              "    </tr>\n",
              "    <tr>\n",
              "      <th>13</th>\n",
              "      <td>20210831</td>\n",
              "      <td>1630398114982000</td>\n",
              "      <td>8a46703e7eaf14691a2d96352a132878</td>\n",
              "      <td>ANDROID</td>\n",
              "      <td>373</td>\n",
              "    </tr>\n",
              "    <tr>\n",
              "      <th>...</th>\n",
              "      <td>...</td>\n",
              "      <td>...</td>\n",
              "      <td>...</td>\n",
              "      <td>...</td>\n",
              "      <td>...</td>\n",
              "    </tr>\n",
              "    <tr>\n",
              "      <th>16177</th>\n",
              "      <td>20210908</td>\n",
              "      <td>1631090581410000</td>\n",
              "      <td>77a94814f072994a607c6a925bfdbb6d</td>\n",
              "      <td>ANDROID</td>\n",
              "      <td>64</td>\n",
              "    </tr>\n",
              "    <tr>\n",
              "      <th>16178</th>\n",
              "      <td>20210908</td>\n",
              "      <td>1631078347321000</td>\n",
              "      <td>77a94814f072994a607c6a925bfdbb6d</td>\n",
              "      <td>ANDROID</td>\n",
              "      <td>4</td>\n",
              "    </tr>\n",
              "    <tr>\n",
              "      <th>16182</th>\n",
              "      <td>20210908</td>\n",
              "      <td>1631075877300000</td>\n",
              "      <td>77a94814f072994a607c6a925bfdbb6d</td>\n",
              "      <td>ANDROID</td>\n",
              "      <td>138</td>\n",
              "    </tr>\n",
              "    <tr>\n",
              "      <th>16191</th>\n",
              "      <td>20210908</td>\n",
              "      <td>1631087242356000</td>\n",
              "      <td>31c21a5ad922ff39f8416f537afc2d0e</td>\n",
              "      <td>ANDROID</td>\n",
              "      <td>941</td>\n",
              "    </tr>\n",
              "    <tr>\n",
              "      <th>16192</th>\n",
              "      <td>20210908</td>\n",
              "      <td>1631091986499000</td>\n",
              "      <td>31c21a5ad922ff39f8416f537afc2d0e</td>\n",
              "      <td>ANDROID</td>\n",
              "      <td>19</td>\n",
              "    </tr>\n",
              "  </tbody>\n",
              "</table>\n",
              "<p>6537 rows × 5 columns</p>\n",
              "</div>"
            ],
            "text/plain": [
              "           date   event_timestamp  ...       OS session_duration\n",
              "3      20210831  1630412544030000  ...  ANDROID             3211\n",
              "4      20210831  1630398286325002  ...  ANDROID             1010\n",
              "5      20210831  1630394845310000  ...  ANDROID               39\n",
              "7      20210831  1630403261222000  ...  ANDROID              141\n",
              "13     20210831  1630398114982000  ...  ANDROID              373\n",
              "...         ...               ...  ...      ...              ...\n",
              "16177  20210908  1631090581410000  ...  ANDROID               64\n",
              "16178  20210908  1631078347321000  ...  ANDROID                4\n",
              "16182  20210908  1631075877300000  ...  ANDROID              138\n",
              "16191  20210908  1631087242356000  ...  ANDROID              941\n",
              "16192  20210908  1631091986499000  ...  ANDROID               19\n",
              "\n",
              "[6537 rows x 5 columns]"
            ]
          },
          "metadata": {},
          "execution_count": 13
        }
      ]
    },
    {
      "cell_type": "code",
      "metadata": {
        "id": "VTJ28WH4bGXl",
        "colab": {
          "base_uri": "https://localhost:8080/"
        },
        "outputId": "f992717d-9659-4a8e-b169-83751a7d3431"
      },
      "source": [
        "android_avg_session_duration = df_android_users[\"session_duration\"].mean()\n",
        "android_avg_session_duration"
      ],
      "execution_count": 14,
      "outputs": [
        {
          "output_type": "execute_result",
          "data": {
            "text/plain": [
              "511.224567844577"
            ]
          },
          "metadata": {},
          "execution_count": 14
        }
      ]
    },
    {
      "cell_type": "markdown",
      "metadata": {
        "id": "Rs5EnqJ2tw1o"
      },
      "source": [
        "# IOS"
      ]
    },
    {
      "cell_type": "code",
      "metadata": {
        "id": "osmptjM9t8TE",
        "colab": {
          "base_uri": "https://localhost:8080/",
          "height": 419
        },
        "outputId": "17fee841-bf0d-40c8-a2d2-72bb483ca49d"
      },
      "source": [
        "df_ios_users = df_session_duration_list[df_session_duration_list[\"OS\"]==\"IOS\"]\n",
        "df_ios_users"
      ],
      "execution_count": 15,
      "outputs": [
        {
          "output_type": "execute_result",
          "data": {
            "text/html": [
              "<div>\n",
              "<style scoped>\n",
              "    .dataframe tbody tr th:only-of-type {\n",
              "        vertical-align: middle;\n",
              "    }\n",
              "\n",
              "    .dataframe tbody tr th {\n",
              "        vertical-align: top;\n",
              "    }\n",
              "\n",
              "    .dataframe thead th {\n",
              "        text-align: right;\n",
              "    }\n",
              "</style>\n",
              "<table border=\"1\" class=\"dataframe\">\n",
              "  <thead>\n",
              "    <tr style=\"text-align: right;\">\n",
              "      <th></th>\n",
              "      <th>date</th>\n",
              "      <th>event_timestamp</th>\n",
              "      <th>user_pseudo_id</th>\n",
              "      <th>OS</th>\n",
              "      <th>session_duration</th>\n",
              "    </tr>\n",
              "  </thead>\n",
              "  <tbody>\n",
              "    <tr>\n",
              "      <th>0</th>\n",
              "      <td>20210831</td>\n",
              "      <td>1630402478009000</td>\n",
              "      <td>D813C2AFC61D4100A404A16DC0F72E45</td>\n",
              "      <td>IOS</td>\n",
              "      <td>282</td>\n",
              "    </tr>\n",
              "    <tr>\n",
              "      <th>1</th>\n",
              "      <td>20210831</td>\n",
              "      <td>1630405890090000</td>\n",
              "      <td>8EDE2BCAFD6743318FBDF747C052C5BB</td>\n",
              "      <td>IOS</td>\n",
              "      <td>1</td>\n",
              "    </tr>\n",
              "    <tr>\n",
              "      <th>2</th>\n",
              "      <td>20210831</td>\n",
              "      <td>1630406357365000</td>\n",
              "      <td>2E20F91DD742404D9D9F8B3B6A3D4D6C</td>\n",
              "      <td>IOS</td>\n",
              "      <td>38</td>\n",
              "    </tr>\n",
              "    <tr>\n",
              "      <th>6</th>\n",
              "      <td>20210831</td>\n",
              "      <td>1630417363218000</td>\n",
              "      <td>2E20F91DD742404D9D9F8B3B6A3D4D6C</td>\n",
              "      <td>IOS</td>\n",
              "      <td>25</td>\n",
              "    </tr>\n",
              "    <tr>\n",
              "      <th>8</th>\n",
              "      <td>20210831</td>\n",
              "      <td>1630395546159000</td>\n",
              "      <td>8F44A4CA2DD140DF87B7B7454442C3CE</td>\n",
              "      <td>IOS</td>\n",
              "      <td>260</td>\n",
              "    </tr>\n",
              "    <tr>\n",
              "      <th>...</th>\n",
              "      <td>...</td>\n",
              "      <td>...</td>\n",
              "      <td>...</td>\n",
              "      <td>...</td>\n",
              "      <td>...</td>\n",
              "    </tr>\n",
              "    <tr>\n",
              "      <th>16200</th>\n",
              "      <td>20210908</td>\n",
              "      <td>1631064939004000</td>\n",
              "      <td>611151331E784A55B2247BD5EF850E94</td>\n",
              "      <td>IOS</td>\n",
              "      <td>1520</td>\n",
              "    </tr>\n",
              "    <tr>\n",
              "      <th>16201</th>\n",
              "      <td>20210908</td>\n",
              "      <td>1631103356828000</td>\n",
              "      <td>131467D48CA744BF84DBD81BC4C58020</td>\n",
              "      <td>IOS</td>\n",
              "      <td>1966</td>\n",
              "    </tr>\n",
              "    <tr>\n",
              "      <th>16202</th>\n",
              "      <td>20210908</td>\n",
              "      <td>1631093428044000</td>\n",
              "      <td>8AFAE35D3BCA452DB10066B6E1BA0881</td>\n",
              "      <td>IOS</td>\n",
              "      <td>1199</td>\n",
              "    </tr>\n",
              "    <tr>\n",
              "      <th>16203</th>\n",
              "      <td>20210908</td>\n",
              "      <td>1631051258667000</td>\n",
              "      <td>52847F0BA9A5476A8201330A6F82D671</td>\n",
              "      <td>IOS</td>\n",
              "      <td>250</td>\n",
              "    </tr>\n",
              "    <tr>\n",
              "      <th>16204</th>\n",
              "      <td>20210908</td>\n",
              "      <td>1631076338755000</td>\n",
              "      <td>978B736BDE974D2392C66C6CF255E18B</td>\n",
              "      <td>IOS</td>\n",
              "      <td>1558</td>\n",
              "    </tr>\n",
              "  </tbody>\n",
              "</table>\n",
              "<p>9659 rows × 5 columns</p>\n",
              "</div>"
            ],
            "text/plain": [
              "           date   event_timestamp  ...   OS session_duration\n",
              "0      20210831  1630402478009000  ...  IOS              282\n",
              "1      20210831  1630405890090000  ...  IOS                1\n",
              "2      20210831  1630406357365000  ...  IOS               38\n",
              "6      20210831  1630417363218000  ...  IOS               25\n",
              "8      20210831  1630395546159000  ...  IOS              260\n",
              "...         ...               ...  ...  ...              ...\n",
              "16200  20210908  1631064939004000  ...  IOS             1520\n",
              "16201  20210908  1631103356828000  ...  IOS             1966\n",
              "16202  20210908  1631093428044000  ...  IOS             1199\n",
              "16203  20210908  1631051258667000  ...  IOS              250\n",
              "16204  20210908  1631076338755000  ...  IOS             1558\n",
              "\n",
              "[9659 rows x 5 columns]"
            ]
          },
          "metadata": {},
          "execution_count": 15
        }
      ]
    },
    {
      "cell_type": "code",
      "metadata": {
        "id": "TE_VJA9KuAjK",
        "colab": {
          "base_uri": "https://localhost:8080/"
        },
        "outputId": "9ce39e21-9692-4a3b-c37c-e03b0ae1e1e0"
      },
      "source": [
        "ios_avg_session_duration = df_ios_users[\"session_duration\"].mean()\n",
        "ios_avg_session_duration"
      ],
      "execution_count": 16,
      "outputs": [
        {
          "output_type": "execute_result",
          "data": {
            "text/plain": [
              "523.4045967491459"
            ]
          },
          "metadata": {},
          "execution_count": 16
        }
      ]
    },
    {
      "cell_type": "markdown",
      "metadata": {
        "id": "DpnsBPC-w37e"
      },
      "source": [
        "# Output"
      ]
    },
    {
      "cell_type": "code",
      "metadata": {
        "id": "PRk5Ky9UsSNH",
        "colab": {
          "base_uri": "https://localhost:8080/",
          "height": 97
        },
        "outputId": "ab2d6e20-7930-418a-9180-c1c77513eede"
      },
      "source": [
        "df_output = pd.DataFrame(columns=[\"android_first_users_stay_time\",\"ios_first_users_stay_time\",\"all_first_users_stay_time\"],index=[0])\n",
        "df_output.insert(0, \"date\", start.strftime(format=\"%Y-%m-%d\"))\n",
        "df_output[\"date\"] = pd.to_datetime(df_output[\"date\"], format=\"%Y-%m-%d\").dt.date\n",
        "df_output[\"android_first_users_stay_time\"] = android_avg_session_duration\n",
        "df_output[\"ios_first_users_stay_time\"] = ios_avg_session_duration\n",
        "df_output[\"all_first_users_stay_time\"] = all_first_users_stay_time\n",
        "df_output = df_output.round(3)\n",
        "df_output.to_gbq(f\"\"\"{PACKAGE_NAME.replace(\".\",\"_\")}_{METRICS_NAME.replace(\"-\",\"_\")}.{FREQUENCY}_events_{start.strftime(format=\"%Y-%m-%d\").replace(\"-\",\"\")}\"\"\",\n",
        "                 if_exists=\"replace\",\n",
        "                 table_schema=[{'name': 'date','type': 'DATE'},\n",
        "                               {'name': 'android_first_users_stay_time','type': 'FLOAT64'},\n",
        "                               {'name': 'ios_first_users_stay_time','type': 'FLOAT64'},\n",
        "                               {'name': 'all_first_users_stay_time','type': 'FLOAT64'}\n",
        "                               ],\n",
        "                 project_id=OUTPUT_BIGQUERY_PROJECT_ID)\n",
        "df_output"
      ],
      "execution_count": 17,
      "outputs": [
        {
          "output_type": "stream",
          "name": "stderr",
          "text": [
            "1it [00:05,  5.19s/it]\n"
          ]
        },
        {
          "output_type": "execute_result",
          "data": {
            "text/html": [
              "<div>\n",
              "<style scoped>\n",
              "    .dataframe tbody tr th:only-of-type {\n",
              "        vertical-align: middle;\n",
              "    }\n",
              "\n",
              "    .dataframe tbody tr th {\n",
              "        vertical-align: top;\n",
              "    }\n",
              "\n",
              "    .dataframe thead th {\n",
              "        text-align: right;\n",
              "    }\n",
              "</style>\n",
              "<table border=\"1\" class=\"dataframe\">\n",
              "  <thead>\n",
              "    <tr style=\"text-align: right;\">\n",
              "      <th></th>\n",
              "      <th>date</th>\n",
              "      <th>android_first_users_stay_time</th>\n",
              "      <th>ios_first_users_stay_time</th>\n",
              "      <th>all_first_users_stay_time</th>\n",
              "    </tr>\n",
              "  </thead>\n",
              "  <tbody>\n",
              "    <tr>\n",
              "      <th>0</th>\n",
              "      <td>2021-08-31</td>\n",
              "      <td>511.225</td>\n",
              "      <td>523.405</td>\n",
              "      <td>518.319</td>\n",
              "    </tr>\n",
              "  </tbody>\n",
              "</table>\n",
              "</div>"
            ],
            "text/plain": [
              "         date  ...  all_first_users_stay_time\n",
              "0  2021-08-31  ...                    518.319\n",
              "\n",
              "[1 rows x 4 columns]"
            ]
          },
          "metadata": {},
          "execution_count": 17
        }
      ]
    }
  ]
}
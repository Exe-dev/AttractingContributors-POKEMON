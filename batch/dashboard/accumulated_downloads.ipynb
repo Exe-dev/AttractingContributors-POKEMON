{
  "nbformat": 4,
  "nbformat_minor": 0,
  "metadata": {
    "colab": {
      "name": "accumulated_downloads.ipynb",
      "provenance": [],
      "collapsed_sections": []
    },
    "kernelspec": {
      "name": "python3",
      "display_name": "Python 3.8.5 64-bit ('base': conda)",
      "metadata": {
        "interpreter": {
          "hash": "dca0ade3e726a953b501b15e8e990130d2b7799f14cfd9f4271676035ebe5511"
        }
      }
    }
  },
  "cells": [
    {
      "cell_type": "markdown",
      "metadata": {
        "id": "lDMqDm7Qawvp"
      },
      "source": [
        "# Dashboard Metrics Calculation: Accumulated Downloads\n",
        "\n",
        "共創分析ダッシュボードの指標（累積ダウンロード数）を計算するNotebook。\n"
      ]
    },
    {
      "cell_type": "markdown",
      "metadata": {
        "id": "JK4a8DVRqFi3"
      },
      "source": [
        "## Input Parameters\n",
        "+ DATE 集計期間の始まりの日\n",
        "+ DEBUG 手動実行時のみTrue(Cloud FunctionsからFalseを渡される。)\n",
        "+ ENV productionかdevelopment.CFで実行する時意外はdevelopment\n",
        "+ FREQUENCY 集計期間\n",
        "+ PROJECT_ID 集計対象プロジェクトのプロジェクトID\n",
        "+ PROJECT_CODE_NAME プロジェクトのコードネーム\n",
        "+ PACKAGE_NAME 対象プロジェクトのパッケージ名\n",
        "+ GOOGLE_PLAY_REPORTING_BUCKET Google playのbucket名\n",
        "+ OUTPUT_BIGQUERY_PROJECT_ID 出力先のbigqueryのプロジェクトID\n",
        "+ SECRET_ID_ISSUER ISSUER IDの格納されているGSMのシークレット名\n",
        "+ VERSION_ID_ISSUER  SSUER IDの格納されているGSMのバージョン\n",
        "+ SECRET_ID_KEY KEY_IDの格納されているGSMのシークレット名\n",
        "+ VERSION_ID_KEY KEY IDの格納されているGSMのバージョン\n",
        "+ SECRET_ID_PRIVATE = PRIVATE　KEYの格納されているGSMのバージョン\n",
        "+ VERSION_ID_PRIVATE PRIVATE　KEYの格納されているGSMのバージョン\n",
        "+ VENDOR_NUMBER App store connect から確認できるベンダー番号\n",
        "+ APP_ID 各アプリに定義されているアプリID\n",
        "+ PROVIDER_ID appleアカウントに紐づいたプロバイダーID\n",
        "+ ISLATEST 最新の日付を対象にする場合はTrue,任意の日付を指定する場合はFalse\n"
      ]
    },
    {
      "cell_type": "markdown",
      "metadata": {
        "id": "oR0sg6NQbPKM"
      },
      "source": [
        "# Parameters"
      ]
    },
    {
      "cell_type": "code",
      "metadata": {
        "id": "pr8uu2mmQR_g"
      },
      "source": [
        "DATE = \"2021-06-01\" # @param {type: \"date\"}\n",
        "DEBUG = True #@param {type: \"boolean\"} 手動実行時のみTrueにする。Cloud FunctionsからFalseを渡される。\n",
        "ENV = \"development\"\n",
        "FREQUENCY = \"daily\" #@param {type: \"string\"}\n",
        "PROJECT_ID = \"komtar_monet_prd\" #@param {type: \"string\"}\n",
        "PROJECT_CODE_NAME = \"monet\" #@param {type: \"string\"}\n",
        "PACKAGE_NAME=\"jp.co.fuller.snowpeak\" #@param {type: \"string\"}\n",
        "GOOGLE_PLAY_REPORTING_BUCKET = \"pubsite__rev_10325089898676068645\" # google play consoleから調べられる\n",
        "OUTPUT_BIGQUERY_PROJECT_ID = \"fl-komtar-analytics-dashboard\" # @param {type: \"string\"}\n",
        "SECRET_ID_ISSUER = \"monet_issuer_id\"\n",
        "VERSION_ID_ISSUER = \"1\"\n",
        "SECRET_ID_KEY = \"monet_key_id\"\n",
        "VERSION_ID_KEY = \"1\"\n",
        "SECRET_ID_PRIVATE = \"monet_private_key\"\n",
        "VERSION_ID_PRIVATE = \"1\"\n",
        "VENDOR_NUMBER = \"87701525\"# @param {type: \"string\"}\n",
        "IS_LATEST = False # @param {type:\"boolean\"}"
      ],
      "execution_count": 95,
      "outputs": []
    },
    {
      "cell_type": "markdown",
      "metadata": {
        "id": "pZaXKQMhYI-l"
      },
      "source": [
        "# Constants"
      ]
    },
    {
      "cell_type": "code",
      "metadata": {
        "id": "ea6eY8HRUZbM"
      },
      "source": [
        "METRICS_NAME = \"accumulated-downloads\""
      ],
      "execution_count": 63,
      "outputs": []
    },
    {
      "cell_type": "markdown",
      "metadata": {
        "id": "SOYr0O7KciFp"
      },
      "source": [
        "# Version"
      ]
    },
    {
      "cell_type": "code",
      "metadata": {
        "id": "8bL8BqavTjgq"
      },
      "source": [
        "VERSION = \"7\""
      ],
      "execution_count": 64,
      "outputs": []
    },
    {
      "cell_type": "markdown",
      "metadata": {
        "id": "zqsobkTsb85a"
      },
      "source": [
        "# Authorize"
      ]
    },
    {
      "cell_type": "code",
      "metadata": {
        "id": "gS6pC6T8b_0y"
      },
      "source": [
        "if DEBUG:\n",
        "    from google.colab import auth\n",
        "    auth.authenticate_user()"
      ],
      "execution_count": 65,
      "outputs": []
    },
    {
      "cell_type": "markdown",
      "metadata": {
        "id": "Vp6ChD90cK9Z"
      },
      "source": [
        "# Imports"
      ]
    },
    {
      "cell_type": "code",
      "metadata": {
        "id": "4LHqo4ZPu0rD"
      },
      "source": [
        "from google.cloud import storage\n",
        "from google.cloud import secretmanager\n",
        "import pandas as pd\n",
        "from datetime import timedelta \n",
        "from datetime import datetime\n",
        "import requests\n",
        "import jwt\n",
        "import time\n",
        "import io\n",
        "import gzip\n",
        "import re"
      ],
      "execution_count": 66,
      "outputs": []
    },
    {
      "cell_type": "markdown",
      "metadata": {
        "id": "Ur-9kcEycQ5a"
      },
      "source": [
        "# Get Input Datasets"
      ]
    },
    {
      "cell_type": "markdown",
      "metadata": {
        "id": "tuTvUe8oJQOV"
      },
      "source": [
        "## Get Year and month"
      ]
    },
    {
      "cell_type": "code",
      "metadata": {
        "colab": {
          "base_uri": "https://localhost:8080/",
          "height": 35
        },
        "id": "7R3Bt2l2Hjxo",
        "outputId": "28fcee15-c5b4-4f1e-88c1-9557e468be46"
      },
      "source": [
        "gs = storage.Client(project=PROJECT_ID)\n",
        "blobs = gs.list_blobs(GOOGLE_PLAY_REPORTING_BUCKET,prefix=f\"stats/installs/installs_{PACKAGE_NAME}_\")\n",
        "google_play_reporting_files = list(blobs)\n",
        "first_reporting_month = re.sub(\"\\\\D\",\"\",google_play_reporting_files[0].name)\n",
        "start_DATE = first_reporting_month + \"01\"\n",
        "start_DATE = datetime.strptime(start_DATE,\"%Y%m%d\").strftime(\"%Y-%m-%d\")\n",
        "start_DATE"
      ],
      "execution_count": 67,
      "outputs": [
        {
          "output_type": "execute_result",
          "data": {
            "application/vnd.google.colaboratory.intrinsic+json": {
              "type": "string"
            },
            "text/plain": [
              "'2018-02-01'"
            ]
          },
          "metadata": {
            "tags": []
          },
          "execution_count": 67
        }
      ]
    },
    {
      "cell_type": "code",
      "metadata": {
        "colab": {
          "base_uri": "https://localhost:8080/",
          "height": 35
        },
        "id": "-QTkuIuu1gsh",
        "outputId": "70fa5b2f-abcf-4d5a-b53c-546fd57c3924"
      },
      "source": [
        "tdatetime = datetime.strptime(DATE, '%Y-%m-%d')\n",
        "end_DATE = (tdatetime - timedelta(days=1)).strftime('%Y-%m-%d')\n",
        "end_DATE"
      ],
      "execution_count": 68,
      "outputs": [
        {
          "output_type": "execute_result",
          "data": {
            "application/vnd.google.colaboratory.intrinsic+json": {
              "type": "string"
            },
            "text/plain": [
              "'2021-05-31'"
            ]
          },
          "metadata": {
            "tags": []
          },
          "execution_count": 68
        }
      ]
    },
    {
      "cell_type": "markdown",
      "metadata": {
        "id": "fwTeq5kbadf5"
      },
      "source": [
        "## Google play store"
      ]
    },
    {
      "cell_type": "code",
      "metadata": {
        "id": "X0ns6qCCbUPH"
      },
      "source": [
        "def getGooglePlayInstalls(file_name, date):\n",
        "  gs = storage.Client(project=PROJECT_ID)\n",
        "  month = f\"{date.split('-')[0]}{date.split('-')[1]}\"\n",
        "  blob_address = f\"stats/installs/installs_{PACKAGE_NAME}_{month}_{file_name}\"\n",
        "  blob = gs.bucket(GOOGLE_PLAY_REPORTING_BUCKET).blob(blob_address)\n",
        "  data = blob.download_as_string()\n",
        "  return pd.read_csv(io.StringIO(data.decode(\"utf-16\")))"
      ],
      "execution_count": 69,
      "outputs": []
    },
    {
      "cell_type": "code",
      "metadata": {
        "id": "FxSBApW96_-Z",
        "colab": {
          "base_uri": "https://localhost:8080/"
        },
        "outputId": "2b64a2b7-5600-4655-83e1-95b68a54dad8"
      },
      "source": [
        "periods = pd.date_range(start=start_DATE, end=end_DATE, freq = \"MS\")\n",
        "periods"
      ],
      "execution_count": 70,
      "outputs": [
        {
          "output_type": "execute_result",
          "data": {
            "text/plain": [
              "DatetimeIndex(['2018-02-01', '2018-03-01', '2018-04-01', '2018-05-01',\n",
              "               '2018-06-01', '2018-07-01', '2018-08-01', '2018-09-01',\n",
              "               '2018-10-01', '2018-11-01', '2018-12-01', '2019-01-01',\n",
              "               '2019-02-01', '2019-03-01', '2019-04-01', '2019-05-01',\n",
              "               '2019-06-01', '2019-07-01', '2019-08-01', '2019-09-01',\n",
              "               '2019-10-01', '2019-11-01', '2019-12-01', '2020-01-01',\n",
              "               '2020-02-01', '2020-03-01', '2020-04-01', '2020-05-01',\n",
              "               '2020-06-01', '2020-07-01', '2020-08-01', '2020-09-01',\n",
              "               '2020-10-01', '2020-11-01', '2020-12-01', '2021-01-01',\n",
              "               '2021-02-01', '2021-03-01', '2021-04-01', '2021-05-01'],\n",
              "              dtype='datetime64[ns]', freq='MS')"
            ]
          },
          "metadata": {
            "tags": []
          },
          "execution_count": 70
        }
      ]
    },
    {
      "cell_type": "code",
      "metadata": {
        "id": "EvtURllG7GzK",
        "colab": {
          "base_uri": "https://localhost:8080/",
          "height": 419
        },
        "outputId": "9865829f-9509-4208-8348-19fcedf808a9"
      },
      "source": [
        "df_googleplay_installs = pd.DataFrame()\n",
        "for period in periods:\n",
        "  date_T = period.strftime('%Y-%m-%d')\n",
        "  df_googleplay_installs = pd.concat([df_googleplay_installs, getGooglePlayInstalls(file_name = \"overview.csv\", date = date_T)])\n",
        "df_googleplay_installs.rename(columns={\"Date\":\"date\"}, inplace=True)\n",
        "df_googleplay_installs"
      ],
      "execution_count": 71,
      "outputs": [
        {
          "output_type": "execute_result",
          "data": {
            "text/html": [
              "<div>\n",
              "<style scoped>\n",
              "    .dataframe tbody tr th:only-of-type {\n",
              "        vertical-align: middle;\n",
              "    }\n",
              "\n",
              "    .dataframe tbody tr th {\n",
              "        vertical-align: top;\n",
              "    }\n",
              "\n",
              "    .dataframe thead th {\n",
              "        text-align: right;\n",
              "    }\n",
              "</style>\n",
              "<table border=\"1\" class=\"dataframe\">\n",
              "  <thead>\n",
              "    <tr style=\"text-align: right;\">\n",
              "      <th></th>\n",
              "      <th>date</th>\n",
              "      <th>Package Name</th>\n",
              "      <th>Daily Device Installs</th>\n",
              "      <th>Daily Device Uninstalls</th>\n",
              "      <th>Daily Device Upgrades</th>\n",
              "      <th>Total User Installs</th>\n",
              "      <th>Daily User Installs</th>\n",
              "      <th>Daily User Uninstalls</th>\n",
              "      <th>Active Device Installs</th>\n",
              "      <th>Install events</th>\n",
              "      <th>Update events</th>\n",
              "      <th>Uninstall events</th>\n",
              "    </tr>\n",
              "  </thead>\n",
              "  <tbody>\n",
              "    <tr>\n",
              "      <th>0</th>\n",
              "      <td>2018-02-24</td>\n",
              "      <td>jp.co.fuller.snowpeak</td>\n",
              "      <td>1</td>\n",
              "      <td>1</td>\n",
              "      <td>0</td>\n",
              "      <td>1</td>\n",
              "      <td>1</td>\n",
              "      <td>1</td>\n",
              "      <td>0</td>\n",
              "      <td>1</td>\n",
              "      <td>0</td>\n",
              "      <td>1</td>\n",
              "    </tr>\n",
              "    <tr>\n",
              "      <th>1</th>\n",
              "      <td>2018-02-25</td>\n",
              "      <td>jp.co.fuller.snowpeak</td>\n",
              "      <td>11</td>\n",
              "      <td>0</td>\n",
              "      <td>1</td>\n",
              "      <td>12</td>\n",
              "      <td>11</td>\n",
              "      <td>0</td>\n",
              "      <td>12</td>\n",
              "      <td>14</td>\n",
              "      <td>0</td>\n",
              "      <td>2</td>\n",
              "    </tr>\n",
              "    <tr>\n",
              "      <th>2</th>\n",
              "      <td>2018-02-26</td>\n",
              "      <td>jp.co.fuller.snowpeak</td>\n",
              "      <td>27</td>\n",
              "      <td>2</td>\n",
              "      <td>0</td>\n",
              "      <td>37</td>\n",
              "      <td>25</td>\n",
              "      <td>2</td>\n",
              "      <td>37</td>\n",
              "      <td>27</td>\n",
              "      <td>0</td>\n",
              "      <td>2</td>\n",
              "    </tr>\n",
              "    <tr>\n",
              "      <th>3</th>\n",
              "      <td>2018-02-27</td>\n",
              "      <td>jp.co.fuller.snowpeak</td>\n",
              "      <td>33</td>\n",
              "      <td>1</td>\n",
              "      <td>1</td>\n",
              "      <td>70</td>\n",
              "      <td>33</td>\n",
              "      <td>1</td>\n",
              "      <td>69</td>\n",
              "      <td>33</td>\n",
              "      <td>1</td>\n",
              "      <td>1</td>\n",
              "    </tr>\n",
              "    <tr>\n",
              "      <th>4</th>\n",
              "      <td>2018-02-28</td>\n",
              "      <td>jp.co.fuller.snowpeak</td>\n",
              "      <td>727</td>\n",
              "      <td>4</td>\n",
              "      <td>47</td>\n",
              "      <td>791</td>\n",
              "      <td>719</td>\n",
              "      <td>4</td>\n",
              "      <td>793</td>\n",
              "      <td>733</td>\n",
              "      <td>46</td>\n",
              "      <td>11</td>\n",
              "    </tr>\n",
              "    <tr>\n",
              "      <th>...</th>\n",
              "      <td>...</td>\n",
              "      <td>...</td>\n",
              "      <td>...</td>\n",
              "      <td>...</td>\n",
              "      <td>...</td>\n",
              "      <td>...</td>\n",
              "      <td>...</td>\n",
              "      <td>...</td>\n",
              "      <td>...</td>\n",
              "      <td>...</td>\n",
              "      <td>...</td>\n",
              "      <td>...</td>\n",
              "    </tr>\n",
              "    <tr>\n",
              "      <th>26</th>\n",
              "      <td>2021-05-27</td>\n",
              "      <td>jp.co.fuller.snowpeak</td>\n",
              "      <td>45</td>\n",
              "      <td>0</td>\n",
              "      <td>0</td>\n",
              "      <td>0</td>\n",
              "      <td>28</td>\n",
              "      <td>26</td>\n",
              "      <td>36567</td>\n",
              "      <td>50</td>\n",
              "      <td>45</td>\n",
              "      <td>25</td>\n",
              "    </tr>\n",
              "    <tr>\n",
              "      <th>27</th>\n",
              "      <td>2021-05-28</td>\n",
              "      <td>jp.co.fuller.snowpeak</td>\n",
              "      <td>77</td>\n",
              "      <td>0</td>\n",
              "      <td>0</td>\n",
              "      <td>0</td>\n",
              "      <td>49</td>\n",
              "      <td>39</td>\n",
              "      <td>34717</td>\n",
              "      <td>89</td>\n",
              "      <td>56</td>\n",
              "      <td>51</td>\n",
              "    </tr>\n",
              "    <tr>\n",
              "      <th>28</th>\n",
              "      <td>2021-05-29</td>\n",
              "      <td>jp.co.fuller.snowpeak</td>\n",
              "      <td>102</td>\n",
              "      <td>0</td>\n",
              "      <td>0</td>\n",
              "      <td>0</td>\n",
              "      <td>69</td>\n",
              "      <td>26</td>\n",
              "      <td>34782</td>\n",
              "      <td>108</td>\n",
              "      <td>47</td>\n",
              "      <td>33</td>\n",
              "    </tr>\n",
              "    <tr>\n",
              "      <th>29</th>\n",
              "      <td>2021-05-30</td>\n",
              "      <td>jp.co.fuller.snowpeak</td>\n",
              "      <td>97</td>\n",
              "      <td>0</td>\n",
              "      <td>0</td>\n",
              "      <td>0</td>\n",
              "      <td>64</td>\n",
              "      <td>23</td>\n",
              "      <td>34787</td>\n",
              "      <td>104</td>\n",
              "      <td>44</td>\n",
              "      <td>34</td>\n",
              "    </tr>\n",
              "    <tr>\n",
              "      <th>30</th>\n",
              "      <td>2021-05-31</td>\n",
              "      <td>jp.co.fuller.snowpeak</td>\n",
              "      <td>61</td>\n",
              "      <td>0</td>\n",
              "      <td>0</td>\n",
              "      <td>0</td>\n",
              "      <td>37</td>\n",
              "      <td>18</td>\n",
              "      <td>34782</td>\n",
              "      <td>65</td>\n",
              "      <td>41</td>\n",
              "      <td>21</td>\n",
              "    </tr>\n",
              "  </tbody>\n",
              "</table>\n",
              "<p>1193 rows × 12 columns</p>\n",
              "</div>"
            ],
            "text/plain": [
              "          date           Package Name  ...  Update events  Uninstall events\n",
              "0   2018-02-24  jp.co.fuller.snowpeak  ...              0                 1\n",
              "1   2018-02-25  jp.co.fuller.snowpeak  ...              0                 2\n",
              "2   2018-02-26  jp.co.fuller.snowpeak  ...              0                 2\n",
              "3   2018-02-27  jp.co.fuller.snowpeak  ...              1                 1\n",
              "4   2018-02-28  jp.co.fuller.snowpeak  ...             46                11\n",
              "..         ...                    ...  ...            ...               ...\n",
              "26  2021-05-27  jp.co.fuller.snowpeak  ...             45                25\n",
              "27  2021-05-28  jp.co.fuller.snowpeak  ...             56                51\n",
              "28  2021-05-29  jp.co.fuller.snowpeak  ...             47                33\n",
              "29  2021-05-30  jp.co.fuller.snowpeak  ...             44                34\n",
              "30  2021-05-31  jp.co.fuller.snowpeak  ...             41                21\n",
              "\n",
              "[1193 rows x 12 columns]"
            ]
          },
          "metadata": {
            "tags": []
          },
          "execution_count": 71
        }
      ]
    },
    {
      "cell_type": "markdown",
      "metadata": {
        "id": "0AJ6-viVataX"
      },
      "source": [
        "## Apple appstore"
      ]
    },
    {
      "cell_type": "markdown",
      "metadata": {
        "id": "rUTwllhldQYr"
      },
      "source": [
        "### Get Authonication Info from GCP Secret Manager"
      ]
    },
    {
      "cell_type": "code",
      "metadata": {
        "id": "xEfiTRC5dV0o"
      },
      "source": [
        "client = secretmanager.SecretManagerServiceClient()"
      ],
      "execution_count": 96,
      "outputs": []
    },
    {
      "cell_type": "markdown",
      "metadata": {
        "id": "bu7XeeKkdfJo"
      },
      "source": [
        "#### Issuer id"
      ]
    },
    {
      "cell_type": "code",
      "metadata": {
        "id": "Vqag-kmKdXgl"
      },
      "source": [
        "name = f\"projects/{OUTPUT_BIGQUERY_PROJECT_ID}/secrets/{SECRET_ID_ISSUER}/versions/{VERSION_ID_ISSUER}\"\n",
        "response = client.access_secret_version(request={\"name\": name})\n",
        "issuer_id = response.payload.data.decode(\"UTF-8\")"
      ],
      "execution_count": 97,
      "outputs": []
    },
    {
      "cell_type": "markdown",
      "metadata": {
        "id": "398pM2N5dhXw"
      },
      "source": [
        "#### Key id"
      ]
    },
    {
      "cell_type": "code",
      "metadata": {
        "id": "SYibz9uEdadQ"
      },
      "source": [
        "name = f\"projects/{OUTPUT_BIGQUERY_PROJECT_ID}/secrets/{SECRET_ID_KEY}/versions/{VERSION_ID_KEY}\"\n",
        "response = client.access_secret_version(request={\"name\": name})\n",
        "kid= response.payload.data.decode(\"UTF-8\")"
      ],
      "execution_count": 98,
      "outputs": []
    },
    {
      "cell_type": "markdown",
      "metadata": {
        "id": "jMMJ_hDmdi5L"
      },
      "source": [
        "#### Private key"
      ]
    },
    {
      "cell_type": "code",
      "metadata": {
        "id": "sUCxTK0Wdcav"
      },
      "source": [
        "name = f\"projects/{OUTPUT_BIGQUERY_PROJECT_ID}/secrets/{SECRET_ID_PRIVATE}/versions/{VERSION_ID_PRIVATE}\"\n",
        "response = client.access_secret_version(request={\"name\": name})\n",
        "private_key = response.payload.data.decode(\"UTF-8\")"
      ],
      "execution_count": 99,
      "outputs": []
    },
    {
      "cell_type": "code",
      "metadata": {
        "id": "Slf9m38FawKi"
      },
      "source": [
        "token = jwt.encode(\n",
        "    payload={\n",
        "        \"iss\": issuer_id,\n",
        "        \"exp\": int(time.time()) + 20*60,\n",
        "        \"aud\": \"appstoreconnect-v1\"\n",
        "    },\n",
        "    key=private_key,\n",
        "    algorithm=\"ES256\",\n",
        "    headers={\n",
        "        \"alg\" : \"ES256\",\n",
        "        \"kid\": kid,\n",
        "        \"typ\": \"JWT\"        \n",
        "    }\n",
        ")"
      ],
      "execution_count": 107,
      "outputs": []
    },
    {
      "cell_type": "code",
      "metadata": {
        "id": "jDWRoUQAivL5"
      },
      "source": [
        "df_sales_reports = pd.DataFrame()\n",
        "for target_date in pd.date_range(start_DATE,end_DATE,freq=\"D\"):\n",
        "  report_date = target_date.strftime(\"%Y-%m-%d\")\n",
        "  url = f\"https://api.appstoreconnect.apple.com/v1/salesReports?filter[frequency]=DAILY&filter[vendorNumber]={VENDOR_NUMBER}&filter[reportDate]={report_date}&filter[reportSubType]=SUMMARY&filter[reportType]=SALES\"\n",
        "  header = {'Authorization': 'Bearer {}'.format(token)}\n",
        "  responce = requests.get(url, headers=header)\n",
        "  if(responce.status_code==200):\n",
        "    gzip_file = io.BytesIO(responce.content)\n",
        "    with gzip.open(gzip_file, \"rt\") as f:\n",
        "      data = f.read()\n",
        "    df_sales_reports = pd.concat([df_sales_reports,pd.read_csv(io.StringIO(data),sep=\"\\t\")]) \n",
        "#df_sales_reports = df_sales_reports[df_sales_reports[\"SKU\"]==PACKAGE_NAME]\n",
        "df_sales_reports[\"Product Type Identifier\"] = df_sales_reports[\"Product Type Identifier\"].astype(str)\n",
        "df_sales_reports = df_sales_reports[df_sales_reports[\"Product Type Identifier\"].str.contains(\"1|3\",na=False)].reset_index(drop=True) \n",
        "df_sales_reports"
      ],
      "execution_count": null,
      "outputs": []
    },
    {
      "cell_type": "markdown",
      "metadata": {
        "id": "83iphD4OQS5K"
      },
      "source": [
        "# Calculate accumulated installs"
      ]
    },
    {
      "cell_type": "code",
      "metadata": {
        "id": "vlX3ImYGEAht"
      },
      "source": [
        "df_appstore_installs = df_sales_reports.groupby([\"Begin Date\"]).sum().reset_index()[[\"Begin Date\",\"Units\"]]\n",
        "df_appstore_installs.columns = [\"date\",\"installs\"]\n",
        "df_appstore_installs[\"date\"] = pd.to_datetime(df_appstore_installs[\"date\"])\n",
        "df_appstore_installs[\"date\"] = df_appstore_installs[\"date\"].dt.strftime(\"%Y-%m-%d\")"
      ],
      "execution_count": 121,
      "outputs": []
    },
    {
      "cell_type": "code",
      "metadata": {
        "colab": {
          "base_uri": "https://localhost:8080/",
          "height": 419
        },
        "id": "s0KKRiQWeFcZ",
        "outputId": "da93b716-8387-4bf4-eac1-9d4e7b2f7bd6"
      },
      "source": [
        "df_installs = df_appstore_installs.merge(df_googleplay_installs, on=\"date\")\n",
        "df_installs.rename(columns={\n",
        "    \"Package Name\": \"package_name\",\n",
        "    \"installs\": \"appstore_installs\", \n",
        "    \"Daily Device Installs\": \"googleplay_installs\"\n",
        "}, inplace=True)\n",
        "df_installs = df_installs[[\"date\", \"appstore_installs\", \"googleplay_installs\"]]\n",
        "df_installs = df_installs.sort_values(\"date\")\n",
        "df_installs['installs'] = df_installs['appstore_installs'] + df_installs['googleplay_installs']\n",
        "df_installs[\"accumulated_appstore_installs\"] = df_installs[\"appstore_installs\"].cumsum()\n",
        "df_installs[\"accumulated_googleplay_installs\"] = df_installs[\"googleplay_installs\"].cumsum()\n",
        "df_installs['accumulated_installs'] = df_installs['accumulated_appstore_installs'] + df_installs['accumulated_googleplay_installs']\n",
        "df_installs = df_installs.reset_index(drop=True)\n",
        "df_installs"
      ],
      "execution_count": 122,
      "outputs": [
        {
          "output_type": "execute_result",
          "data": {
            "text/html": [
              "<div>\n",
              "<style scoped>\n",
              "    .dataframe tbody tr th:only-of-type {\n",
              "        vertical-align: middle;\n",
              "    }\n",
              "\n",
              "    .dataframe tbody tr th {\n",
              "        vertical-align: top;\n",
              "    }\n",
              "\n",
              "    .dataframe thead th {\n",
              "        text-align: right;\n",
              "    }\n",
              "</style>\n",
              "<table border=\"1\" class=\"dataframe\">\n",
              "  <thead>\n",
              "    <tr style=\"text-align: right;\">\n",
              "      <th></th>\n",
              "      <th>date</th>\n",
              "      <th>appstore_installs</th>\n",
              "      <th>googleplay_installs</th>\n",
              "      <th>installs</th>\n",
              "      <th>accumulated_appstore_installs</th>\n",
              "      <th>accumulated_googleplay_installs</th>\n",
              "      <th>accumulated_installs</th>\n",
              "    </tr>\n",
              "  </thead>\n",
              "  <tbody>\n",
              "    <tr>\n",
              "      <th>0</th>\n",
              "      <td>2020-06-10</td>\n",
              "      <td>283</td>\n",
              "      <td>47</td>\n",
              "      <td>330</td>\n",
              "      <td>283</td>\n",
              "      <td>47</td>\n",
              "      <td>330</td>\n",
              "    </tr>\n",
              "    <tr>\n",
              "      <th>1</th>\n",
              "      <td>2020-06-11</td>\n",
              "      <td>288</td>\n",
              "      <td>53</td>\n",
              "      <td>341</td>\n",
              "      <td>571</td>\n",
              "      <td>100</td>\n",
              "      <td>671</td>\n",
              "    </tr>\n",
              "    <tr>\n",
              "      <th>2</th>\n",
              "      <td>2020-06-12</td>\n",
              "      <td>261</td>\n",
              "      <td>93</td>\n",
              "      <td>354</td>\n",
              "      <td>832</td>\n",
              "      <td>193</td>\n",
              "      <td>1025</td>\n",
              "    </tr>\n",
              "    <tr>\n",
              "      <th>3</th>\n",
              "      <td>2020-06-13</td>\n",
              "      <td>529</td>\n",
              "      <td>117</td>\n",
              "      <td>646</td>\n",
              "      <td>1361</td>\n",
              "      <td>310</td>\n",
              "      <td>1671</td>\n",
              "    </tr>\n",
              "    <tr>\n",
              "      <th>4</th>\n",
              "      <td>2020-06-14</td>\n",
              "      <td>634</td>\n",
              "      <td>72</td>\n",
              "      <td>706</td>\n",
              "      <td>1995</td>\n",
              "      <td>382</td>\n",
              "      <td>2377</td>\n",
              "    </tr>\n",
              "    <tr>\n",
              "      <th>...</th>\n",
              "      <td>...</td>\n",
              "      <td>...</td>\n",
              "      <td>...</td>\n",
              "      <td>...</td>\n",
              "      <td>...</td>\n",
              "      <td>...</td>\n",
              "      <td>...</td>\n",
              "    </tr>\n",
              "    <tr>\n",
              "      <th>351</th>\n",
              "      <td>2021-05-27</td>\n",
              "      <td>359</td>\n",
              "      <td>45</td>\n",
              "      <td>404</td>\n",
              "      <td>174070</td>\n",
              "      <td>27047</td>\n",
              "      <td>201117</td>\n",
              "    </tr>\n",
              "    <tr>\n",
              "      <th>352</th>\n",
              "      <td>2021-05-28</td>\n",
              "      <td>368</td>\n",
              "      <td>77</td>\n",
              "      <td>445</td>\n",
              "      <td>174438</td>\n",
              "      <td>27124</td>\n",
              "      <td>201562</td>\n",
              "    </tr>\n",
              "    <tr>\n",
              "      <th>353</th>\n",
              "      <td>2021-05-29</td>\n",
              "      <td>602</td>\n",
              "      <td>102</td>\n",
              "      <td>704</td>\n",
              "      <td>175040</td>\n",
              "      <td>27226</td>\n",
              "      <td>202266</td>\n",
              "    </tr>\n",
              "    <tr>\n",
              "      <th>354</th>\n",
              "      <td>2021-05-30</td>\n",
              "      <td>733</td>\n",
              "      <td>97</td>\n",
              "      <td>830</td>\n",
              "      <td>175773</td>\n",
              "      <td>27323</td>\n",
              "      <td>203096</td>\n",
              "    </tr>\n",
              "    <tr>\n",
              "      <th>355</th>\n",
              "      <td>2021-05-31</td>\n",
              "      <td>382</td>\n",
              "      <td>61</td>\n",
              "      <td>443</td>\n",
              "      <td>176155</td>\n",
              "      <td>27384</td>\n",
              "      <td>203539</td>\n",
              "    </tr>\n",
              "  </tbody>\n",
              "</table>\n",
              "<p>356 rows × 7 columns</p>\n",
              "</div>"
            ],
            "text/plain": [
              "           date  ...  accumulated_installs\n",
              "0    2020-06-10  ...                   330\n",
              "1    2020-06-11  ...                   671\n",
              "2    2020-06-12  ...                  1025\n",
              "3    2020-06-13  ...                  1671\n",
              "4    2020-06-14  ...                  2377\n",
              "..          ...  ...                   ...\n",
              "351  2021-05-27  ...                201117\n",
              "352  2021-05-28  ...                201562\n",
              "353  2021-05-29  ...                202266\n",
              "354  2021-05-30  ...                203096\n",
              "355  2021-05-31  ...                203539\n",
              "\n",
              "[356 rows x 7 columns]"
            ]
          },
          "metadata": {
            "tags": []
          },
          "execution_count": 122
        }
      ]
    },
    {
      "cell_type": "markdown",
      "metadata": {
        "id": "DpnsBPC-w37e"
      },
      "source": [
        "# Output"
      ]
    },
    {
      "cell_type": "code",
      "metadata": {
        "id": "PRk5Ky9UsSNH",
        "colab": {
          "base_uri": "https://localhost:8080/",
          "height": 436
        },
        "outputId": "c7c981e1-2a2e-45ec-b75c-dff093f9748c"
      },
      "source": [
        "output_columns = [\"date\", \"accumulated_appstore_installs\", \"accumulated_googleplay_installs\", \"accumulated_installs\"]\n",
        "df_installs[\"date\"] = pd.to_datetime(df_installs[\"date\"]).dt.date\n",
        "df_installs['appstore_installs'] = df_installs['appstore_installs'].astype('int')\n",
        "df_installs['accumulated_appstore_installs'] = df_installs['accumulated_appstore_installs'].astype('int')\n",
        "df_installs['accumulated_installs'] = df_installs['accumulated_installs'].astype('int')\n",
        "gbq_output_path = f\"\"\"{PACKAGE_NAME.replace(\".\",\"_\")}_{METRICS_NAME.replace(\"-\",\"_\")}.{FREQUENCY}_events\"\"\"\n",
        "df_installs[output_columns].to_gbq(gbq_output_path,\n",
        "                                   if_exists=\"replace\",\n",
        "                                   table_schema=[{'name': 'date','type': 'DATE'},\n",
        "                                                 {'name': 'appstore_installs','type': 'INT64'},\n",
        "                                                 {'name': 'googleplay_installs','type': 'INT64'},\n",
        "                                                 {'name': 'accumulated_appstore_installs\t','type': 'INT64'},\n",
        "                                                 {'name': 'accumulated_googleplay_installs\t','type': 'INT64'},\n",
        "                                                 {'name': 'accumulated_installs\t','type': 'INT64'}],\n",
        "                                   project_id=OUTPUT_BIGQUERY_PROJECT_ID)\n",
        "df_installs"
      ],
      "execution_count": 123,
      "outputs": [
        {
          "output_type": "stream",
          "text": [
            "1it [00:05,  5.68s/it]\n"
          ],
          "name": "stderr"
        },
        {
          "output_type": "execute_result",
          "data": {
            "text/html": [
              "<div>\n",
              "<style scoped>\n",
              "    .dataframe tbody tr th:only-of-type {\n",
              "        vertical-align: middle;\n",
              "    }\n",
              "\n",
              "    .dataframe tbody tr th {\n",
              "        vertical-align: top;\n",
              "    }\n",
              "\n",
              "    .dataframe thead th {\n",
              "        text-align: right;\n",
              "    }\n",
              "</style>\n",
              "<table border=\"1\" class=\"dataframe\">\n",
              "  <thead>\n",
              "    <tr style=\"text-align: right;\">\n",
              "      <th></th>\n",
              "      <th>date</th>\n",
              "      <th>appstore_installs</th>\n",
              "      <th>googleplay_installs</th>\n",
              "      <th>installs</th>\n",
              "      <th>accumulated_appstore_installs</th>\n",
              "      <th>accumulated_googleplay_installs</th>\n",
              "      <th>accumulated_installs</th>\n",
              "    </tr>\n",
              "  </thead>\n",
              "  <tbody>\n",
              "    <tr>\n",
              "      <th>0</th>\n",
              "      <td>2020-06-10</td>\n",
              "      <td>283</td>\n",
              "      <td>47</td>\n",
              "      <td>330</td>\n",
              "      <td>283</td>\n",
              "      <td>47</td>\n",
              "      <td>330</td>\n",
              "    </tr>\n",
              "    <tr>\n",
              "      <th>1</th>\n",
              "      <td>2020-06-11</td>\n",
              "      <td>288</td>\n",
              "      <td>53</td>\n",
              "      <td>341</td>\n",
              "      <td>571</td>\n",
              "      <td>100</td>\n",
              "      <td>671</td>\n",
              "    </tr>\n",
              "    <tr>\n",
              "      <th>2</th>\n",
              "      <td>2020-06-12</td>\n",
              "      <td>261</td>\n",
              "      <td>93</td>\n",
              "      <td>354</td>\n",
              "      <td>832</td>\n",
              "      <td>193</td>\n",
              "      <td>1025</td>\n",
              "    </tr>\n",
              "    <tr>\n",
              "      <th>3</th>\n",
              "      <td>2020-06-13</td>\n",
              "      <td>529</td>\n",
              "      <td>117</td>\n",
              "      <td>646</td>\n",
              "      <td>1361</td>\n",
              "      <td>310</td>\n",
              "      <td>1671</td>\n",
              "    </tr>\n",
              "    <tr>\n",
              "      <th>4</th>\n",
              "      <td>2020-06-14</td>\n",
              "      <td>634</td>\n",
              "      <td>72</td>\n",
              "      <td>706</td>\n",
              "      <td>1995</td>\n",
              "      <td>382</td>\n",
              "      <td>2377</td>\n",
              "    </tr>\n",
              "    <tr>\n",
              "      <th>...</th>\n",
              "      <td>...</td>\n",
              "      <td>...</td>\n",
              "      <td>...</td>\n",
              "      <td>...</td>\n",
              "      <td>...</td>\n",
              "      <td>...</td>\n",
              "      <td>...</td>\n",
              "    </tr>\n",
              "    <tr>\n",
              "      <th>351</th>\n",
              "      <td>2021-05-27</td>\n",
              "      <td>359</td>\n",
              "      <td>45</td>\n",
              "      <td>404</td>\n",
              "      <td>174070</td>\n",
              "      <td>27047</td>\n",
              "      <td>201117</td>\n",
              "    </tr>\n",
              "    <tr>\n",
              "      <th>352</th>\n",
              "      <td>2021-05-28</td>\n",
              "      <td>368</td>\n",
              "      <td>77</td>\n",
              "      <td>445</td>\n",
              "      <td>174438</td>\n",
              "      <td>27124</td>\n",
              "      <td>201562</td>\n",
              "    </tr>\n",
              "    <tr>\n",
              "      <th>353</th>\n",
              "      <td>2021-05-29</td>\n",
              "      <td>602</td>\n",
              "      <td>102</td>\n",
              "      <td>704</td>\n",
              "      <td>175040</td>\n",
              "      <td>27226</td>\n",
              "      <td>202266</td>\n",
              "    </tr>\n",
              "    <tr>\n",
              "      <th>354</th>\n",
              "      <td>2021-05-30</td>\n",
              "      <td>733</td>\n",
              "      <td>97</td>\n",
              "      <td>830</td>\n",
              "      <td>175773</td>\n",
              "      <td>27323</td>\n",
              "      <td>203096</td>\n",
              "    </tr>\n",
              "    <tr>\n",
              "      <th>355</th>\n",
              "      <td>2021-05-31</td>\n",
              "      <td>382</td>\n",
              "      <td>61</td>\n",
              "      <td>443</td>\n",
              "      <td>176155</td>\n",
              "      <td>27384</td>\n",
              "      <td>203539</td>\n",
              "    </tr>\n",
              "  </tbody>\n",
              "</table>\n",
              "<p>356 rows × 7 columns</p>\n",
              "</div>"
            ],
            "text/plain": [
              "           date  ...  accumulated_installs\n",
              "0    2020-06-10  ...                   330\n",
              "1    2020-06-11  ...                   671\n",
              "2    2020-06-12  ...                  1025\n",
              "3    2020-06-13  ...                  1671\n",
              "4    2020-06-14  ...                  2377\n",
              "..          ...  ...                   ...\n",
              "351  2021-05-27  ...                201117\n",
              "352  2021-05-28  ...                201562\n",
              "353  2021-05-29  ...                202266\n",
              "354  2021-05-30  ...                203096\n",
              "355  2021-05-31  ...                203539\n",
              "\n",
              "[356 rows x 7 columns]"
            ]
          },
          "metadata": {
            "tags": []
          },
          "execution_count": 123
        }
      ]
    }
  ]
}
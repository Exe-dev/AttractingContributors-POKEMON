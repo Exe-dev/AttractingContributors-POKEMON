{
  "nbformat": 4,
  "nbformat_minor": 0,
  "metadata": {
    "colab": {
      "name": "active_users.ipynb",
      "provenance": [],
      "collapsed_sections": [],
      "toc_visible": true
    },
    "kernelspec": {
      "name": "python3",
      "display_name": "Python 3"
    }
  },
  "cells": [
    {
      "cell_type": "markdown",
      "metadata": {
        "id": "lDMqDm7Qawvp"
      },
      "source": [
        "# Pushes"
      ]
    },
    {
      "cell_type": "markdown",
      "metadata": {
        "id": "UeMTHg28R1lU"
      },
      "source": [
        "MAU率(MAU/インストール数)を計算するNotebook"
      ]
    },
    {
      "cell_type": "markdown",
      "metadata": {
        "id": "d2Ipf6Dd7XpB"
      },
      "source": [
        "##Input Parameters\n",
        "+ DATE 集計期間の終わりの日\n",
        "+ DEBUG 手動実行時のみTrue\n",
        "+ FREQUENCY 実行頻度\n",
        "+ BIGQUERY_PROJECT_ID bigqueryのプロジェクト名\n",
        "+ BIGQUERY_DATASET bigqueryのデータセット\n",
        "+ PACKAGE_NAME bigqueryのパッケージ名\n",
        "+ OUTPUT_BIGQUERY_PROJECT_ID 出力先のBQのプロジェクト名\n",
        "+ ISLATEST 最新の日付を対象にする場合はTrue,任意の日付を指定する場合はFalse"
      ]
    },
    {
      "cell_type": "markdown",
      "metadata": {
        "id": "PbeHg0VvSbJX"
      },
      "source": [
        "# Output Range\n",
        "+ daily\n",
        "DATEの1日前を対象に集計\n",
        " \n",
        "  ex.DATE=\"2021-02-02\"の場合は\"2021-02-01を対象に集計\"\n",
        "+ weekly\n",
        "DATEの1日前から7日を対象に集計\n",
        "\n",
        "  ex.DATE=\"2021-02-22\"の場合は\"2021-02-15\"から\"2021-02-21を対象に集計\"\n",
        "+ monthly\n",
        "DATEの1日前から1ヶ月を対象に集計\n",
        "\n",
        "  ex.DATE=\"2021-02-01\"の場合は\"2021-01-01\"から\"2021-01-31\"を対象に集計\""
      ]
    },
    {
      "cell_type": "markdown",
      "metadata": {
        "id": "Akb291xjxqDj"
      },
      "source": [
        "## Output Data\n",
        "+ MAU\n",
        "+ Mdownload\n",
        "+ Mpercent"
      ]
    },
    {
      "cell_type": "markdown",
      "metadata": {
        "id": "hXIj-2vmx7ZC"
      },
      "source": [
        "# Parameters"
      ]
    },
    {
      "cell_type": "code",
      "metadata": {
        "id": "pr8uu2mmQR_g"
      },
      "source": [
        "DATE = \"2021-08-17\" # @param {type: \"date\"}\n",
        "DEBUG = True # @param {type: \"boolean\"} 手動実行時のみTrueにする。Cloud FunctionsからFalseを渡される。\n",
        "FREQUENCY = \"daily\" # @param {type: \"string\"}\n",
        "BIGQUERY_PROJECT_ID = \"komtar-monet-prd\" # @param {type: \"string\"}\n",
        "BIGQUERY_DATASET = \"analytics_167835138.events_*\" # @param {type: \"string\"}\n",
        "PACKAGE_NAME = \"jp.co.fuller.snowpeak\" # @param {type: \"string\"}\n",
        "OUTPUT_BIGQUERY_PROJECT_ID = \"fl-komtar-analytics-dashboard\" # @param {type: \"string\"}\n",
        "IS_LATEST = False # @param {type:\"boolean\"}"
      ],
      "execution_count": 14,
      "outputs": []
    },
    {
      "cell_type": "markdown",
      "metadata": {
        "id": "pZaXKQMhYI-l"
      },
      "source": [
        "# Constants"
      ]
    },
    {
      "cell_type": "code",
      "metadata": {
        "id": "9scpPY38HW6C"
      },
      "source": [
        "METRICS_NAME = \"pushes\""
      ],
      "execution_count": 2,
      "outputs": []
    },
    {
      "cell_type": "markdown",
      "metadata": {
        "id": "SOYr0O7KciFp"
      },
      "source": [
        "# Version"
      ]
    },
    {
      "cell_type": "code",
      "metadata": {
        "id": "8bL8BqavTjgq"
      },
      "source": [
        "VERSION = \"1\""
      ],
      "execution_count": 3,
      "outputs": []
    },
    {
      "cell_type": "markdown",
      "metadata": {
        "id": "zqsobkTsb85a"
      },
      "source": [
        "# Authorize"
      ]
    },
    {
      "cell_type": "code",
      "metadata": {
        "id": "gS6pC6T8b_0y"
      },
      "source": [
        "if DEBUG:\n",
        "    from google.colab import auth\n",
        "    auth.authenticate_user()"
      ],
      "execution_count": 4,
      "outputs": []
    },
    {
      "cell_type": "markdown",
      "metadata": {
        "id": "Vp6ChD90cK9Z"
      },
      "source": [
        "# Imports"
      ]
    },
    {
      "cell_type": "code",
      "metadata": {
        "id": "4LHqo4ZPu0rD"
      },
      "source": [
        "from datetime import datetime, timedelta\n",
        "import pandas as pd\n",
        "from pytz import timezone "
      ],
      "execution_count": 5,
      "outputs": []
    },
    {
      "cell_type": "markdown",
      "metadata": {
        "id": "Ur-9kcEycQ5a"
      },
      "source": [
        "# Get Input Datasets"
      ]
    },
    {
      "cell_type": "markdown",
      "metadata": {
        "id": "S4ZjS9bUJlsR"
      },
      "source": [
        "## 対象範囲の計算"
      ]
    },
    {
      "cell_type": "code",
      "metadata": {
        "id": "6qJenaZsQC9L",
        "colab": {
          "base_uri": "https://localhost:8080/"
        },
        "outputId": "67999085-00e3-44e3-c870-de19358be895"
      },
      "source": [
        "if IS＿LATEST:\n",
        "  date = (datetime.now(timezone(\"Asia/Tokyo\"))-timedelta(days=1))\n",
        "else:\n",
        "  date = datetime.strptime(DATE,\"%Y-%m-%d\") - timedelta(days=1)\n",
        "end = date\n",
        "start = datetime(end.year,end.month,1)\n",
        "start_date = start.strftime(\"%Y%m%d\")\n",
        "end_date = end.strftime(\"%Y%m%d\")\n",
        "start_date, end_date"
      ],
      "execution_count": 16,
      "outputs": [
        {
          "output_type": "execute_result",
          "data": {
            "text/plain": [
              "('20210801', '20210816')"
            ]
          },
          "metadata": {},
          "execution_count": 16
        }
      ]
    },
    {
      "cell_type": "code",
      "metadata": {
        "id": "uXiggISP_6Kk"
      },
      "source": [
        "base_start = start-timedelta(days=1)\n",
        "base_end = end+timedelta(days=1)"
      ],
      "execution_count": 17,
      "outputs": []
    },
    {
      "cell_type": "markdown",
      "metadata": {
        "id": "HKJmM7GQ1hSS"
      },
      "source": [
        "## Query"
      ]
    },
    {
      "cell_type": "markdown",
      "metadata": {
        "id": "E6WEbTMs1jm5"
      },
      "source": [
        "### プッシュ通知の数を取得"
      ]
    },
    {
      "cell_type": "code",
      "metadata": {
        "id": "G7wk2DfebXnv",
        "colab": {
          "base_uri": "https://localhost:8080/",
          "height": 545
        },
        "outputId": "a505812e-6da2-4a09-ecf3-14ca4ae49d5b"
      },
      "source": [
        "query = f\"\"\"\n",
        "SELECT *\n",
        "FROM `{PACKAGE_NAME.replace(\".\",\"_\")}_downloads.{FREQUENCY}_events_*`\n",
        "WHERE _table_suffix BETWEEN \"{start_date}\" AND \"{end_date}\"\n",
        "\"\"\"\n",
        "df_download = pd.read_gbq(query,project_id=OUTPUT_BIGQUERY_PROJECT_ID, dialect='standard')\n",
        "df_download"
      ],
      "execution_count": 22,
      "outputs": [
        {
          "output_type": "execute_result",
          "data": {
            "text/html": [
              "<div>\n",
              "<style scoped>\n",
              "    .dataframe tbody tr th:only-of-type {\n",
              "        vertical-align: middle;\n",
              "    }\n",
              "\n",
              "    .dataframe tbody tr th {\n",
              "        vertical-align: top;\n",
              "    }\n",
              "\n",
              "    .dataframe thead th {\n",
              "        text-align: right;\n",
              "    }\n",
              "</style>\n",
              "<table border=\"1\" class=\"dataframe\">\n",
              "  <thead>\n",
              "    <tr style=\"text-align: right;\">\n",
              "      <th></th>\n",
              "      <th>date</th>\n",
              "      <th>appstore_installs</th>\n",
              "      <th>googleplay_installs</th>\n",
              "      <th>installs</th>\n",
              "    </tr>\n",
              "  </thead>\n",
              "  <tbody>\n",
              "    <tr>\n",
              "      <th>0</th>\n",
              "      <td>2021-08-09</td>\n",
              "      <td>741</td>\n",
              "      <td>86</td>\n",
              "      <td>827</td>\n",
              "    </tr>\n",
              "    <tr>\n",
              "      <th>1</th>\n",
              "      <td>2021-08-11</td>\n",
              "      <td>488</td>\n",
              "      <td>98</td>\n",
              "      <td>586</td>\n",
              "    </tr>\n",
              "    <tr>\n",
              "      <th>2</th>\n",
              "      <td>2021-08-04</td>\n",
              "      <td>352</td>\n",
              "      <td>47</td>\n",
              "      <td>399</td>\n",
              "    </tr>\n",
              "    <tr>\n",
              "      <th>3</th>\n",
              "      <td>2021-08-16</td>\n",
              "      <td>570</td>\n",
              "      <td>83</td>\n",
              "      <td>653</td>\n",
              "    </tr>\n",
              "    <tr>\n",
              "      <th>4</th>\n",
              "      <td>2021-08-03</td>\n",
              "      <td>360</td>\n",
              "      <td>69</td>\n",
              "      <td>429</td>\n",
              "    </tr>\n",
              "    <tr>\n",
              "      <th>5</th>\n",
              "      <td>2021-08-12</td>\n",
              "      <td>630</td>\n",
              "      <td>93</td>\n",
              "      <td>723</td>\n",
              "    </tr>\n",
              "    <tr>\n",
              "      <th>6</th>\n",
              "      <td>2021-08-08</td>\n",
              "      <td>669</td>\n",
              "      <td>111</td>\n",
              "      <td>780</td>\n",
              "    </tr>\n",
              "    <tr>\n",
              "      <th>7</th>\n",
              "      <td>2021-08-07</td>\n",
              "      <td>595</td>\n",
              "      <td>98</td>\n",
              "      <td>693</td>\n",
              "    </tr>\n",
              "    <tr>\n",
              "      <th>8</th>\n",
              "      <td>2021-08-10</td>\n",
              "      <td>517</td>\n",
              "      <td>66</td>\n",
              "      <td>583</td>\n",
              "    </tr>\n",
              "    <tr>\n",
              "      <th>9</th>\n",
              "      <td>2021-08-06</td>\n",
              "      <td>344</td>\n",
              "      <td>67</td>\n",
              "      <td>411</td>\n",
              "    </tr>\n",
              "    <tr>\n",
              "      <th>10</th>\n",
              "      <td>2021-08-02</td>\n",
              "      <td>388</td>\n",
              "      <td>56</td>\n",
              "      <td>444</td>\n",
              "    </tr>\n",
              "    <tr>\n",
              "      <th>11</th>\n",
              "      <td>2021-08-13</td>\n",
              "      <td>595</td>\n",
              "      <td>107</td>\n",
              "      <td>702</td>\n",
              "    </tr>\n",
              "    <tr>\n",
              "      <th>12</th>\n",
              "      <td>2021-08-14</td>\n",
              "      <td>749</td>\n",
              "      <td>137</td>\n",
              "      <td>886</td>\n",
              "    </tr>\n",
              "    <tr>\n",
              "      <th>13</th>\n",
              "      <td>2021-08-01</td>\n",
              "      <td>695</td>\n",
              "      <td>87</td>\n",
              "      <td>782</td>\n",
              "    </tr>\n",
              "    <tr>\n",
              "      <th>14</th>\n",
              "      <td>2021-08-05</td>\n",
              "      <td>353</td>\n",
              "      <td>75</td>\n",
              "      <td>428</td>\n",
              "    </tr>\n",
              "    <tr>\n",
              "      <th>15</th>\n",
              "      <td>2021-08-15</td>\n",
              "      <td>768</td>\n",
              "      <td>107</td>\n",
              "      <td>875</td>\n",
              "    </tr>\n",
              "  </tbody>\n",
              "</table>\n",
              "</div>"
            ],
            "text/plain": [
              "         date  appstore_installs  googleplay_installs  installs\n",
              "0  2021-08-09                741                   86       827\n",
              "1  2021-08-11                488                   98       586\n",
              "2  2021-08-04                352                   47       399\n",
              "3  2021-08-16                570                   83       653\n",
              "4  2021-08-03                360                   69       429\n",
              "5  2021-08-12                630                   93       723\n",
              "6  2021-08-08                669                  111       780\n",
              "7  2021-08-07                595                   98       693\n",
              "8  2021-08-10                517                   66       583\n",
              "9  2021-08-06                344                   67       411\n",
              "10 2021-08-02                388                   56       444\n",
              "11 2021-08-13                595                  107       702\n",
              "12 2021-08-14                749                  137       886\n",
              "13 2021-08-01                695                   87       782\n",
              "14 2021-08-05                353                   75       428\n",
              "15 2021-08-15                768                  107       875"
            ]
          },
          "metadata": {},
          "execution_count": 22
        }
      ]
    },
    {
      "cell_type": "code",
      "metadata": {
        "id": "PWFNSATZewGU",
        "outputId": "c5f9c8b2-4bbb-42fb-c082-0bb96e3fc447",
        "colab": {
          "base_uri": "https://localhost:8080/",
          "height": 80
        }
      },
      "source": [
        "query = f\"\"\"\n",
        "SELECT *\n",
        "FROM `{PACKAGE_NAME.replace(\".\",\"_\")}_active_users.monthly_events_*`\n",
        "WHERE _table_suffix BETWEEN \"{start_date}\" AND \"{end_date}\"\n",
        "\"\"\"\n",
        "df_mau = pd.read_gbq(query,project_id=OUTPUT_BIGQUERY_PROJECT_ID, dialect='standard')\n",
        "df_mau"
      ],
      "execution_count": 23,
      "outputs": [
        {
          "output_type": "execute_result",
          "data": {
            "text/html": [
              "<div>\n",
              "<style scoped>\n",
              "    .dataframe tbody tr th:only-of-type {\n",
              "        vertical-align: middle;\n",
              "    }\n",
              "\n",
              "    .dataframe tbody tr th {\n",
              "        vertical-align: top;\n",
              "    }\n",
              "\n",
              "    .dataframe thead th {\n",
              "        text-align: right;\n",
              "    }\n",
              "</style>\n",
              "<table border=\"1\" class=\"dataframe\">\n",
              "  <thead>\n",
              "    <tr style=\"text-align: right;\">\n",
              "      <th></th>\n",
              "      <th>date</th>\n",
              "      <th>android_active_users</th>\n",
              "      <th>ios_active_users</th>\n",
              "      <th>total_users</th>\n",
              "    </tr>\n",
              "  </thead>\n",
              "  <tbody>\n",
              "    <tr>\n",
              "      <th>0</th>\n",
              "      <td>2021-08-01</td>\n",
              "      <td>77527</td>\n",
              "      <td>522907</td>\n",
              "      <td>600434</td>\n",
              "    </tr>\n",
              "  </tbody>\n",
              "</table>\n",
              "</div>"
            ],
            "text/plain": [
              "        date  android_active_users  ios_active_users  total_users\n",
              "0 2021-08-01                 77527            522907       600434"
            ]
          },
          "metadata": {},
          "execution_count": 23
        }
      ]
    },
    {
      "cell_type": "code",
      "metadata": {
        "id": "fvgnxmYMe6a_",
        "outputId": "ea6c9e9d-8e07-4477-de33-56d485eb51c1",
        "colab": {
          "base_uri": "https://localhost:8080/"
        }
      },
      "source": [
        "potential = df_mau[\"total_users\"]/df_download[\"installs\"].sum()\n",
        "potential"
      ],
      "execution_count": 28,
      "outputs": [
        {
          "output_type": "execute_result",
          "data": {
            "text/plain": [
              "0    58.860308\n",
              "Name: total_users, dtype: float64"
            ]
          },
          "metadata": {},
          "execution_count": 28
        }
      ]
    },
    {
      "cell_type": "code",
      "metadata": {
        "id": "1coMjpJdQYj5",
        "colab": {
          "base_uri": "https://localhost:8080/",
          "height": 97
        },
        "outputId": "5756722c-05cc-468a-ff24-873b17d1fe62"
      },
      "source": [
        "df_output = df_events\n",
        "df_output.insert(0, \"date\", start.strftime(format=\"%Y-%m-%d\"))\n",
        "df_output[\"date\"] = pd.to_datetime(df_output[\"date\"]).dt.date\n",
        "df_output.to_gbq(f\"\"\"{PACKAGE_NAME.replace(\".\",\"_\")}_{METRICS_NAME.replace(\"-\",\"_\")}.{FREQUENCY}_events_{start.strftime(format=\"%Y-%m-%d\").replace(\"-\",\"\")}\"\"\",\n",
        "                 if_exists=\"replace\",\n",
        "                 table_schema=[{'name': 'date','type': 'DATE'},\n",
        "                               {'name': 'android_active_users','type': 'INT64'},\n",
        "                               {'name': 'ios_active_users','type': 'INT64'},\n",
        "                               {'name': 'total_users','type': 'INT64'}],\n",
        "                 project_id=OUTPUT_BIGQUERY_PROJECT_ID)\n",
        "df_output"
      ],
      "execution_count": null,
      "outputs": [
        {
          "output_type": "stream",
          "name": "stderr",
          "text": [
            "1it [00:07,  7.98s/it]\n"
          ]
        },
        {
          "output_type": "execute_result",
          "data": {
            "text/html": [
              "<div>\n",
              "<style scoped>\n",
              "    .dataframe tbody tr th:only-of-type {\n",
              "        vertical-align: middle;\n",
              "    }\n",
              "\n",
              "    .dataframe tbody tr th {\n",
              "        vertical-align: top;\n",
              "    }\n",
              "\n",
              "    .dataframe thead th {\n",
              "        text-align: right;\n",
              "    }\n",
              "</style>\n",
              "<table border=\"1\" class=\"dataframe\">\n",
              "  <thead>\n",
              "    <tr style=\"text-align: right;\">\n",
              "      <th></th>\n",
              "      <th>date</th>\n",
              "      <th>pushs</th>\n",
              "    </tr>\n",
              "  </thead>\n",
              "  <tbody>\n",
              "    <tr>\n",
              "      <th>0</th>\n",
              "      <td>2021-05-04</td>\n",
              "      <td>7</td>\n",
              "    </tr>\n",
              "  </tbody>\n",
              "</table>\n",
              "</div>"
            ],
            "text/plain": [
              "         date  pushs\n",
              "0  2021-05-04      7"
            ]
          },
          "metadata": {},
          "execution_count": 47
        }
      ]
    }
  ]
}